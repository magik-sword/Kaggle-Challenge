{
 "cells": [
  {
   "cell_type": "markdown",
   "id": "4f8d9828",
   "metadata": {},
   "source": [
    "# Kaggle Challenge: Predict Health Outcomes of Horses\n",
    "Link to Challenge Dataset: https://www.kaggle.com/competitions/playground-series-s3e22/data\n",
    "<br>Link to Original Dataset: https://www.kaggle.com/datasets/yasserh/horse-survival-dataset<br>\n",
    "<br>This kaggle challenge consists of a training and test dataset generated from a deep learning model based on a real-world horse survival dataset. The datasets contain the medical history of injured horses and their outcome after visiting the hospital. The goal of the challenge is to train a machine learning model that can predict the health outcome of an injured horse given its prior medical history."
   ]
  },
  {
   "cell_type": "markdown",
   "id": "98dd70b4",
   "metadata": {},
   "source": [
    "# Feature Documentation\n",
    "This documentation comes from the original dataset that I linked along with the challenge dataset above. I'm using this documentation because it's provides alot more detail and context for interpreting vitals. This will be useful when performing feature selection and creating visualizations. <br>\n",
    "\n",
    "1: Surgery \n",
    "- 1 = Yes, it had surgery\n",
    "- 2 = It was treated without surgery\n",
    "\n",
    "2: Age\n",
    "- 1 = Adult horse\n",
    "- 2 = Young (< 6 months)\n",
    "\n",
    "3: Hospital Number\n",
    "   - numeric id. The case number assigned to the horse (may not be unique if the horse is treated > 1 time)\n",
    "    \n",
    "4: Rectal temperature (Celcius)\n",
    "   - Linear\n",
    "   - An elevated temp may occur due to infection. \n",
    "   - Temperature may be reduced when the animal is in late shock. \n",
    "   - This parameter will usually change as the problem progresses, eg. may start out normal, then become elevated because of the lesion, passing back through the normal range as the horse goes into shock.\n",
    "   - Normal temp is 37.8\n",
    "\n",
    "5: Pulse (Beats Per Minute)\n",
    "   - Linear. \n",
    "   - 30 - 40 is normal for adults\n",
    "   - Rare to have a lower than normal rate although athletic horses may have a rate of 20-25\n",
    "   - Animals with painful lesions or suffering from circulatory shock may have an elevated heart rate\n",
    "    \n",
    "6: Respiratory Rate (Breaths Per Minute)\n",
    "   - Linear\n",
    "   - Normal rate is 8 to 10\n",
    "   - Usefulness is doubtful due to the great fluctuations\n",
    "    \n",
    "7: Temperature of Extremities\n",
    "   - A subjective indication of peripheral circulation\n",
    "   - Possible values:\n",
    "        - 1 = Normal\n",
    "        - 2 = Warm\n",
    "        - 3 = Cool\n",
    "        - 4 = Cold      \n",
    "   - Cool to cold extremities indicate possible shock\n",
    "   - Hot extremities should correlate with an elevated rectal temp.\n",
    "    \n",
    "8: Peripheral Pulse\n",
    "   - Subjective\n",
    "   - Possible values:\n",
    "        - 1 = normal\n",
    "        - 2 = increased\n",
    "        - 3 = reduced\n",
    "        - 4 = absent\n",
    "   - Normal or increased p.p. are indicative of adequate circulation while reduced or absent indicate poor perfusion\n",
    "\n",
    "9: Mucous Membranes\n",
    "   - A subjective measurement of colour\n",
    "        - Possible values:\n",
    "        - 1 = normal pink\n",
    "        - 2 = bright pink\n",
    "        - 3 = pale pink\n",
    "        - 4 = pale cyanotic\n",
    "        - 5 = bright red / injected\n",
    "        - 6 = dark cyanotic\n",
    "   - 1/2: Indicate a normal or slightly increased circulation\n",
    "   - 3: May occur in early shock\n",
    "   - 4/6: Indicative of serious circulatory compromise\n",
    "   - 5: Possible indication of Septicemia (potentially deadly blood infection)\n",
    "    \n",
    "10: Capillary Refill Time (seconds)\n",
    "   - A clinical judgement. The longer the refill, the poorer the circulation\n",
    "   - Possible values:\n",
    "        - 1: < 3 seconds \n",
    "        - 2: >= 3 seconds\n",
    "        \n",
    "11: Pain \n",
    "   - A subjective judgement of the horse's pain level\n",
    "   - Possible values:\n",
    "        - 1 = alert, no pain\n",
    "        - 2 = depressed\n",
    "        - 3 = intermittent mild pain\n",
    "        - 4 = intermittent severe pain\n",
    "        - 5 = continuous severe pain\n",
    "   - Should NOT be treated as a ordered or discrete variable!\n",
    "   - In general, the more painful, the more likely it is to require surgery. Prior treatment of pain may mask the pain level to some extent\n",
    "    \n",
    "12: Peristalsis\n",
    "- An indication of the activity in the horse's gut. As the gut becomes more distended or the horse becomes more toxic, the activity decreases\n",
    "- Possible values:\n",
    "    - 1 = hypermotile\n",
    "    - 2 = normal\n",
    "    - 3 = hypomotile\n",
    "    - 4 = absent\n",
    "    \n",
    "13: Abdominal Distension\n",
    "- An IMPORTANT parameter.\n",
    "- Possible values:\n",
    "    - 1 = none\n",
    "    - 2 = slight\n",
    "    - 3 = moderate\n",
    "    - 4 = severe\n",
    "- An animal with abdominal distension is likely in pain and has reduced gut motility\n",
    "- A horse with severe abdominal distension is likely to require surgery just t0 relieve the pressure\n",
    "\n",
    "14: Nasogastric Tube\n",
    "- This refers to any gas coming out of the tube\n",
    "- Possible values:\n",
    "    - 1 = none\n",
    "    - 2 = slight\n",
    "    - 3 = significant\n",
    "- A large gas cap in the stomach is likely to give the horse discomfort\n",
    "\n",
    "15: Nasogastric Reflux (liters)\n",
    "- Possible values:\n",
    "    - 1 = none\n",
    "    - 2 = > 1 liter\n",
    "    - 3 = < 1 liter\n",
    "- The greater amount of reflux, the more likelihood that there is some serious obstruction to the fluid passage from the rest of the intestine\n",
    "\n",
    "16: Nasogastric reflux (pH)\n",
    "- Linear\n",
    "- pH of 3-4 is the normal range\n",
    "\n",
    "17: Rectal Examination (Feces)\n",
    "- Possible values:\n",
    "    - 1 = normal\n",
    "    - 2 = increased\n",
    "    - 3 = decreased\n",
    "    - 4 = absent\n",
    "- Absent feces probably indicates an obstruction\n",
    "\n",
    "18: Abdomen\n",
    "- Possible values:\n",
    "    - 1 = normal\n",
    "    - 2 = other\n",
    "    - 3 = firm feces in the large intestine\n",
    "    - 4 = distended small intestine\n",
    "    - 5 = distended large intestine\n",
    "- 3: Probably an obstruction caused by a mechanical impaction and is normally treated medically\n",
    "- 4/5: Indicate a surgical lesion\n",
    "\n",
    "19: Packed Cell Volume (%)\n",
    "- Linear\n",
    "- The # of red cells by volume in the blood\n",
    "- Normal range is 30 to 50. The level rises as the circulation becomes compromised or as the animal becomes dehydrated.\n",
    "\n",
    "20: Total Protein (gms/dL)\n",
    "- Linear\n",
    "- Normal values lie in the 6-7.5 (gms/dL) range\n",
    "- The higher the value the greater the dehydration\n",
    "\n",
    "21: Abdominocentesis Appearance\n",
    "- A needle is put in the horse's abdomen and fluid is obtained from the abdominal cavity\n",
    "- Possible values:\n",
    "    - 1 = clear\n",
    "    - 2 = cloudy\n",
    "    - 3 = serosanguinous\n",
    "- Normal fluid is clear while cloudy or serosanguinous indicates a compromised gut\n",
    "\n",
    "22: Abdomcentesis Total Protein (gms/dL)\n",
    "- Linear\n",
    "- The higher the level of protein the more likely it is to have a compromised gut.\n",
    "\n",
    "23: Outcome\n",
    "- What eventually happened to the horse?\n",
    "- Possible values:\n",
    "    - 1 = lived\n",
    "    - 2 = died\n",
    "    - 3 = was euthanized\n",
    "    \n",
    "24: Surgical Lesion?\n",
    "- Retrospectively, was the problem (lesion) surgical?\n",
    "- All cases are either operated upon or autopsied so that this value and the lesion type are always known\n",
    "- Possible values:\n",
    "    - 1 = Yes\n",
    "    - 2 = No\n",
    "    \n",
    "25, 26, 27: Type of Lesion\n",
    "- First number is site of lesion\n",
    "    - 1 = gastric\n",
    "    - 2 = sm intestine\n",
    "    - 3 = lg colon\n",
    "    - 4 = lg colon and cecum\n",
    "    - 5 = cecum\n",
    "    - 6 = transverse colon\n",
    "    - 7 = retum/descending colon\n",
    "    - 8 = uterus\n",
    "    - 9 = bladder\n",
    "    - 11 = all intestinal sites\n",
    "    - 00 = none\n",
    "- Second number is type\n",
    "    - 1 = simple\n",
    "    - 2 = strangulation\n",
    "    - 3 = inflammation\n",
    "    - 4 = other\n",
    "- Third number is subtype\n",
    "    - 1 = mechanical\n",
    "    - 2 = paralytic\n",
    "    - 0 = n/a\n",
    "- Fourth number is specific code\n",
    "    - 1 = obturation\n",
    "    - 2 = intrinsic\n",
    "    - 3 = extrinsic\n",
    "    - 4 = adynamic\n",
    "    - 5 = volvulus/torsion\n",
    "    - 6 = intussuption\n",
    "    - 7 = thromboembolic\n",
    "    - 8 = hernia\n",
    "    - 9 = lipoma/slenic incarceration\n",
    "    - 10 = displacement\n",
    "    - 0 = n/a\n",
    "    \n",
    "28: cp_data\n",
    "- Is pathology data present for this case?\n",
    "    - 1 = Yes\n",
    "    - 2 = No\n",
    "- This variable is of no significance since pathology data is not included or collected for these cases"
   ]
  },
  {
   "cell_type": "markdown",
   "id": "546a4faa",
   "metadata": {},
   "source": [
    "# Data Loading and Initial Look"
   ]
  },
  {
   "cell_type": "code",
   "execution_count": 1,
   "id": "0923ea4d",
   "metadata": {},
   "outputs": [],
   "source": [
    "import pandas as pd\n",
    "import numpy as np\n",
    "import matplotlib.pyplot as plt\n",
    "from IPython.display import HTML, display\n",
    "import tabulate"
   ]
  },
  {
   "cell_type": "code",
   "execution_count": 2,
   "id": "64616403",
   "metadata": {},
   "outputs": [
    {
     "data": {
      "text/html": [
       "<div>\n",
       "<style scoped>\n",
       "    .dataframe tbody tr th:only-of-type {\n",
       "        vertical-align: middle;\n",
       "    }\n",
       "\n",
       "    .dataframe tbody tr th {\n",
       "        vertical-align: top;\n",
       "    }\n",
       "\n",
       "    .dataframe thead th {\n",
       "        text-align: right;\n",
       "    }\n",
       "</style>\n",
       "<table border=\"1\" class=\"dataframe\">\n",
       "  <thead>\n",
       "    <tr style=\"text-align: right;\">\n",
       "      <th></th>\n",
       "      <th>id</th>\n",
       "      <th>surgery</th>\n",
       "      <th>age</th>\n",
       "      <th>hospital_number</th>\n",
       "      <th>rectal_temp</th>\n",
       "      <th>pulse</th>\n",
       "      <th>respiratory_rate</th>\n",
       "      <th>temp_of_extremities</th>\n",
       "      <th>peripheral_pulse</th>\n",
       "      <th>mucous_membrane</th>\n",
       "      <th>...</th>\n",
       "      <th>packed_cell_volume</th>\n",
       "      <th>total_protein</th>\n",
       "      <th>abdomo_appearance</th>\n",
       "      <th>abdomo_protein</th>\n",
       "      <th>surgical_lesion</th>\n",
       "      <th>lesion_1</th>\n",
       "      <th>lesion_2</th>\n",
       "      <th>lesion_3</th>\n",
       "      <th>cp_data</th>\n",
       "      <th>outcome</th>\n",
       "    </tr>\n",
       "  </thead>\n",
       "  <tbody>\n",
       "    <tr>\n",
       "      <th>0</th>\n",
       "      <td>0</td>\n",
       "      <td>yes</td>\n",
       "      <td>adult</td>\n",
       "      <td>530001</td>\n",
       "      <td>38.1</td>\n",
       "      <td>132.0</td>\n",
       "      <td>24.0</td>\n",
       "      <td>cool</td>\n",
       "      <td>reduced</td>\n",
       "      <td>dark_cyanotic</td>\n",
       "      <td>...</td>\n",
       "      <td>57.0</td>\n",
       "      <td>8.5</td>\n",
       "      <td>serosanguious</td>\n",
       "      <td>3.4</td>\n",
       "      <td>yes</td>\n",
       "      <td>2209</td>\n",
       "      <td>0</td>\n",
       "      <td>0</td>\n",
       "      <td>no</td>\n",
       "      <td>died</td>\n",
       "    </tr>\n",
       "    <tr>\n",
       "      <th>1</th>\n",
       "      <td>1</td>\n",
       "      <td>yes</td>\n",
       "      <td>adult</td>\n",
       "      <td>533836</td>\n",
       "      <td>37.5</td>\n",
       "      <td>88.0</td>\n",
       "      <td>12.0</td>\n",
       "      <td>cool</td>\n",
       "      <td>normal</td>\n",
       "      <td>pale_cyanotic</td>\n",
       "      <td>...</td>\n",
       "      <td>33.0</td>\n",
       "      <td>64.0</td>\n",
       "      <td>serosanguious</td>\n",
       "      <td>2.0</td>\n",
       "      <td>yes</td>\n",
       "      <td>2208</td>\n",
       "      <td>0</td>\n",
       "      <td>0</td>\n",
       "      <td>no</td>\n",
       "      <td>euthanized</td>\n",
       "    </tr>\n",
       "    <tr>\n",
       "      <th>2</th>\n",
       "      <td>2</td>\n",
       "      <td>yes</td>\n",
       "      <td>adult</td>\n",
       "      <td>529812</td>\n",
       "      <td>38.3</td>\n",
       "      <td>120.0</td>\n",
       "      <td>28.0</td>\n",
       "      <td>cool</td>\n",
       "      <td>reduced</td>\n",
       "      <td>pale_pink</td>\n",
       "      <td>...</td>\n",
       "      <td>37.0</td>\n",
       "      <td>6.4</td>\n",
       "      <td>serosanguious</td>\n",
       "      <td>3.4</td>\n",
       "      <td>yes</td>\n",
       "      <td>5124</td>\n",
       "      <td>0</td>\n",
       "      <td>0</td>\n",
       "      <td>no</td>\n",
       "      <td>lived</td>\n",
       "    </tr>\n",
       "    <tr>\n",
       "      <th>3</th>\n",
       "      <td>3</td>\n",
       "      <td>yes</td>\n",
       "      <td>adult</td>\n",
       "      <td>5262541</td>\n",
       "      <td>37.1</td>\n",
       "      <td>72.0</td>\n",
       "      <td>30.0</td>\n",
       "      <td>cold</td>\n",
       "      <td>reduced</td>\n",
       "      <td>pale_pink</td>\n",
       "      <td>...</td>\n",
       "      <td>53.0</td>\n",
       "      <td>7.0</td>\n",
       "      <td>cloudy</td>\n",
       "      <td>3.9</td>\n",
       "      <td>yes</td>\n",
       "      <td>2208</td>\n",
       "      <td>0</td>\n",
       "      <td>0</td>\n",
       "      <td>yes</td>\n",
       "      <td>lived</td>\n",
       "    </tr>\n",
       "    <tr>\n",
       "      <th>4</th>\n",
       "      <td>4</td>\n",
       "      <td>no</td>\n",
       "      <td>adult</td>\n",
       "      <td>5299629</td>\n",
       "      <td>38.0</td>\n",
       "      <td>52.0</td>\n",
       "      <td>48.0</td>\n",
       "      <td>normal</td>\n",
       "      <td>normal</td>\n",
       "      <td>normal_pink</td>\n",
       "      <td>...</td>\n",
       "      <td>47.0</td>\n",
       "      <td>7.3</td>\n",
       "      <td>cloudy</td>\n",
       "      <td>2.6</td>\n",
       "      <td>no</td>\n",
       "      <td>0</td>\n",
       "      <td>0</td>\n",
       "      <td>0</td>\n",
       "      <td>yes</td>\n",
       "      <td>lived</td>\n",
       "    </tr>\n",
       "  </tbody>\n",
       "</table>\n",
       "<p>5 rows × 29 columns</p>\n",
       "</div>"
      ],
      "text/plain": [
       "   id surgery    age  hospital_number  rectal_temp  pulse  respiratory_rate  \\\n",
       "0   0     yes  adult           530001         38.1  132.0              24.0   \n",
       "1   1     yes  adult           533836         37.5   88.0              12.0   \n",
       "2   2     yes  adult           529812         38.3  120.0              28.0   \n",
       "3   3     yes  adult          5262541         37.1   72.0              30.0   \n",
       "4   4      no  adult          5299629         38.0   52.0              48.0   \n",
       "\n",
       "  temp_of_extremities peripheral_pulse mucous_membrane  ...  \\\n",
       "0                cool          reduced   dark_cyanotic  ...   \n",
       "1                cool           normal   pale_cyanotic  ...   \n",
       "2                cool          reduced       pale_pink  ...   \n",
       "3                cold          reduced       pale_pink  ...   \n",
       "4              normal           normal     normal_pink  ...   \n",
       "\n",
       "  packed_cell_volume total_protein abdomo_appearance abdomo_protein  \\\n",
       "0               57.0           8.5     serosanguious            3.4   \n",
       "1               33.0          64.0     serosanguious            2.0   \n",
       "2               37.0           6.4     serosanguious            3.4   \n",
       "3               53.0           7.0            cloudy            3.9   \n",
       "4               47.0           7.3            cloudy            2.6   \n",
       "\n",
       "  surgical_lesion lesion_1  lesion_2 lesion_3 cp_data     outcome  \n",
       "0             yes     2209         0        0      no        died  \n",
       "1             yes     2208         0        0      no  euthanized  \n",
       "2             yes     5124         0        0      no       lived  \n",
       "3             yes     2208         0        0     yes       lived  \n",
       "4              no        0         0        0     yes       lived  \n",
       "\n",
       "[5 rows x 29 columns]"
      ]
     },
     "execution_count": 2,
     "metadata": {},
     "output_type": "execute_result"
    }
   ],
   "source": [
    "# Load in both datasets and display the first five rows of each\n",
    "df_train = pd.read_csv(\"train.csv\")\n",
    "df_test = pd.read_csv(\"test.csv\")\n",
    "df_train.head(5)"
   ]
  },
  {
   "cell_type": "code",
   "execution_count": 3,
   "id": "ecfc8de2",
   "metadata": {},
   "outputs": [
    {
     "data": {
      "text/html": [
       "<div>\n",
       "<style scoped>\n",
       "    .dataframe tbody tr th:only-of-type {\n",
       "        vertical-align: middle;\n",
       "    }\n",
       "\n",
       "    .dataframe tbody tr th {\n",
       "        vertical-align: top;\n",
       "    }\n",
       "\n",
       "    .dataframe thead th {\n",
       "        text-align: right;\n",
       "    }\n",
       "</style>\n",
       "<table border=\"1\" class=\"dataframe\">\n",
       "  <thead>\n",
       "    <tr style=\"text-align: right;\">\n",
       "      <th></th>\n",
       "      <th>id</th>\n",
       "      <th>surgery</th>\n",
       "      <th>age</th>\n",
       "      <th>hospital_number</th>\n",
       "      <th>rectal_temp</th>\n",
       "      <th>pulse</th>\n",
       "      <th>respiratory_rate</th>\n",
       "      <th>temp_of_extremities</th>\n",
       "      <th>peripheral_pulse</th>\n",
       "      <th>mucous_membrane</th>\n",
       "      <th>...</th>\n",
       "      <th>abdomen</th>\n",
       "      <th>packed_cell_volume</th>\n",
       "      <th>total_protein</th>\n",
       "      <th>abdomo_appearance</th>\n",
       "      <th>abdomo_protein</th>\n",
       "      <th>surgical_lesion</th>\n",
       "      <th>lesion_1</th>\n",
       "      <th>lesion_2</th>\n",
       "      <th>lesion_3</th>\n",
       "      <th>cp_data</th>\n",
       "    </tr>\n",
       "  </thead>\n",
       "  <tbody>\n",
       "    <tr>\n",
       "      <th>0</th>\n",
       "      <td>1235</td>\n",
       "      <td>no</td>\n",
       "      <td>adult</td>\n",
       "      <td>534053</td>\n",
       "      <td>38.6</td>\n",
       "      <td>40.0</td>\n",
       "      <td>20.0</td>\n",
       "      <td>normal</td>\n",
       "      <td>normal</td>\n",
       "      <td>normal_pink</td>\n",
       "      <td>...</td>\n",
       "      <td>distend_small</td>\n",
       "      <td>42.0</td>\n",
       "      <td>7.5</td>\n",
       "      <td>clear</td>\n",
       "      <td>2.3</td>\n",
       "      <td>no</td>\n",
       "      <td>0</td>\n",
       "      <td>0</td>\n",
       "      <td>0</td>\n",
       "      <td>no</td>\n",
       "    </tr>\n",
       "    <tr>\n",
       "      <th>1</th>\n",
       "      <td>1236</td>\n",
       "      <td>yes</td>\n",
       "      <td>adult</td>\n",
       "      <td>528469</td>\n",
       "      <td>38.2</td>\n",
       "      <td>112.0</td>\n",
       "      <td>48.0</td>\n",
       "      <td>cool</td>\n",
       "      <td>reduced</td>\n",
       "      <td>bright_pink</td>\n",
       "      <td>...</td>\n",
       "      <td>distend_small</td>\n",
       "      <td>44.0</td>\n",
       "      <td>6.0</td>\n",
       "      <td>serosanguious</td>\n",
       "      <td>2.6</td>\n",
       "      <td>no</td>\n",
       "      <td>2208</td>\n",
       "      <td>0</td>\n",
       "      <td>0</td>\n",
       "      <td>yes</td>\n",
       "    </tr>\n",
       "    <tr>\n",
       "      <th>2</th>\n",
       "      <td>1237</td>\n",
       "      <td>yes</td>\n",
       "      <td>adult</td>\n",
       "      <td>528178</td>\n",
       "      <td>37.7</td>\n",
       "      <td>66.0</td>\n",
       "      <td>12.0</td>\n",
       "      <td>cool</td>\n",
       "      <td>normal</td>\n",
       "      <td>bright_red</td>\n",
       "      <td>...</td>\n",
       "      <td>distend_small</td>\n",
       "      <td>31.5</td>\n",
       "      <td>6.0</td>\n",
       "      <td>cloudy</td>\n",
       "      <td>1.6</td>\n",
       "      <td>yes</td>\n",
       "      <td>2205</td>\n",
       "      <td>0</td>\n",
       "      <td>0</td>\n",
       "      <td>yes</td>\n",
       "    </tr>\n",
       "    <tr>\n",
       "      <th>3</th>\n",
       "      <td>1238</td>\n",
       "      <td>no</td>\n",
       "      <td>adult</td>\n",
       "      <td>534784</td>\n",
       "      <td>37.1</td>\n",
       "      <td>88.0</td>\n",
       "      <td>20.0</td>\n",
       "      <td>cool</td>\n",
       "      <td>reduced</td>\n",
       "      <td>pale_cyanotic</td>\n",
       "      <td>...</td>\n",
       "      <td>distend_large</td>\n",
       "      <td>75.0</td>\n",
       "      <td>81.0</td>\n",
       "      <td>NaN</td>\n",
       "      <td>1.0</td>\n",
       "      <td>yes</td>\n",
       "      <td>1400</td>\n",
       "      <td>0</td>\n",
       "      <td>0</td>\n",
       "      <td>no</td>\n",
       "    </tr>\n",
       "    <tr>\n",
       "      <th>4</th>\n",
       "      <td>1239</td>\n",
       "      <td>yes</td>\n",
       "      <td>adult</td>\n",
       "      <td>529840</td>\n",
       "      <td>38.3</td>\n",
       "      <td>50.0</td>\n",
       "      <td>12.0</td>\n",
       "      <td>NaN</td>\n",
       "      <td>normal</td>\n",
       "      <td>bright_pink</td>\n",
       "      <td>...</td>\n",
       "      <td>distend_small</td>\n",
       "      <td>37.0</td>\n",
       "      <td>6.8</td>\n",
       "      <td>cloudy</td>\n",
       "      <td>2.6</td>\n",
       "      <td>yes</td>\n",
       "      <td>2208</td>\n",
       "      <td>0</td>\n",
       "      <td>0</td>\n",
       "      <td>yes</td>\n",
       "    </tr>\n",
       "  </tbody>\n",
       "</table>\n",
       "<p>5 rows × 28 columns</p>\n",
       "</div>"
      ],
      "text/plain": [
       "     id surgery    age  hospital_number  rectal_temp  pulse  respiratory_rate  \\\n",
       "0  1235      no  adult           534053         38.6   40.0              20.0   \n",
       "1  1236     yes  adult           528469         38.2  112.0              48.0   \n",
       "2  1237     yes  adult           528178         37.7   66.0              12.0   \n",
       "3  1238      no  adult           534784         37.1   88.0              20.0   \n",
       "4  1239     yes  adult           529840         38.3   50.0              12.0   \n",
       "\n",
       "  temp_of_extremities peripheral_pulse mucous_membrane  ...        abdomen  \\\n",
       "0              normal           normal     normal_pink  ...  distend_small   \n",
       "1                cool          reduced     bright_pink  ...  distend_small   \n",
       "2                cool           normal      bright_red  ...  distend_small   \n",
       "3                cool          reduced   pale_cyanotic  ...  distend_large   \n",
       "4                 NaN           normal     bright_pink  ...  distend_small   \n",
       "\n",
       "  packed_cell_volume total_protein abdomo_appearance abdomo_protein  \\\n",
       "0               42.0           7.5             clear            2.3   \n",
       "1               44.0           6.0     serosanguious            2.6   \n",
       "2               31.5           6.0            cloudy            1.6   \n",
       "3               75.0          81.0               NaN            1.0   \n",
       "4               37.0           6.8            cloudy            2.6   \n",
       "\n",
       "  surgical_lesion  lesion_1 lesion_2 lesion_3  cp_data  \n",
       "0              no         0        0        0       no  \n",
       "1              no      2208        0        0      yes  \n",
       "2             yes      2205        0        0      yes  \n",
       "3             yes      1400        0        0       no  \n",
       "4             yes      2208        0        0      yes  \n",
       "\n",
       "[5 rows x 28 columns]"
      ]
     },
     "execution_count": 3,
     "metadata": {},
     "output_type": "execute_result"
    }
   ],
   "source": [
    "df_test.head(5)"
   ]
  },
  {
   "cell_type": "markdown",
   "id": "37953ad6",
   "metadata": {},
   "source": [
    "Both datasets are relatively small. This will most likely lead to problems down the line when we begin training because our models only have so much data to learn from."
   ]
  },
  {
   "cell_type": "code",
   "execution_count": 4,
   "id": "c1fb39f2",
   "metadata": {},
   "outputs": [
    {
     "name": "stdout",
     "output_type": "stream",
     "text": [
      "Train rows and columns: (1235, 29)\n",
      "Test rows and columns: (824, 28)\n"
     ]
    }
   ],
   "source": [
    "# Shape of both datasets: \n",
    "train = df_train.shape\n",
    "test = df_test.shape\n",
    "\n",
    "print(\"Train rows and columns:\", df_train.shape)\n",
    "print(\"Test rows and columns:\", df_test.shape)"
   ]
  },
  {
   "cell_type": "markdown",
   "id": "73e0bef0",
   "metadata": {},
   "source": [
    "Both datasets have a decent amount of missing columns. The test dataset will have to be preprocessed along with the training dataset. However, we will have to handle things like missing values, outliers, and encoding based on the training data, and then apply it to the test set to prevent data leakage."
   ]
  },
  {
   "cell_type": "code",
   "execution_count": 5,
   "id": "d65b821c",
   "metadata": {},
   "outputs": [
    {
     "name": "stdout",
     "output_type": "stream",
     "text": [
      "Training Set Null Entries:\n",
      "id                         0\n",
      "surgery                    0\n",
      "age                        0\n",
      "hospital_number            0\n",
      "rectal_temp                0\n",
      "pulse                      0\n",
      "respiratory_rate           0\n",
      "temp_of_extremities       39\n",
      "peripheral_pulse          60\n",
      "mucous_membrane           21\n",
      "capillary_refill_time      6\n",
      "pain                      44\n",
      "peristalsis               20\n",
      "abdominal_distention      23\n",
      "nasogastric_tube          80\n",
      "nasogastric_reflux        21\n",
      "nasogastric_reflux_ph      0\n",
      "rectal_exam_feces        190\n",
      "abdomen                  213\n",
      "packed_cell_volume         0\n",
      "total_protein              0\n",
      "abdomo_appearance         48\n",
      "abdomo_protein             0\n",
      "surgical_lesion            0\n",
      "lesion_1                   0\n",
      "lesion_2                   0\n",
      "lesion_3                   0\n",
      "cp_data                    0\n",
      "outcome                    0\n",
      "dtype: int64\n",
      "\n",
      "Test Set Null Entries:\n",
      "id                         0\n",
      "surgery                    0\n",
      "age                        0\n",
      "hospital_number            0\n",
      "rectal_temp                0\n",
      "pulse                      0\n",
      "respiratory_rate           0\n",
      "temp_of_extremities       35\n",
      "peripheral_pulse          47\n",
      "mucous_membrane           13\n",
      "capillary_refill_time      6\n",
      "pain                      29\n",
      "peristalsis               19\n",
      "abdominal_distention      22\n",
      "nasogastric_tube          64\n",
      "nasogastric_reflux        14\n",
      "nasogastric_reflux_ph      0\n",
      "rectal_exam_feces        125\n",
      "abdomen                  154\n",
      "packed_cell_volume         0\n",
      "total_protein              0\n",
      "abdomo_appearance         31\n",
      "abdomo_protein             0\n",
      "surgical_lesion            0\n",
      "lesion_1                   0\n",
      "lesion_2                   0\n",
      "lesion_3                   0\n",
      "cp_data                    0\n",
      "dtype: int64\n"
     ]
    }
   ],
   "source": [
    "# Null entries in the dataset\n",
    "print(\"Training Set Null Entries:\")\n",
    "print(df_train.isnull().sum())\n",
    "\n",
    "print(\"\\nTest Set Null Entries:\")\n",
    "print(df_test.isnull().sum())"
   ]
  },
  {
   "cell_type": "markdown",
   "id": "628c5107",
   "metadata": {},
   "source": [
    "Lets make a summary table of all the basic info for both datasets. Looking at documentation, we want to make sure lesion_1 -lesion_3 are labeled as categorical features and not numerical, so let's convert them to objects before we make our summary tables."
   ]
  },
  {
   "cell_type": "code",
   "execution_count": 6,
   "id": "1d5ec045",
   "metadata": {},
   "outputs": [
    {
     "name": "stdout",
     "output_type": "stream",
     "text": [
      "lesion_1    object\n",
      "lesion_2    object\n",
      "lesion_3    object\n",
      "dtype: object\n",
      "lesion_1    object\n",
      "lesion_2    object\n",
      "lesion_3    object\n",
      "dtype: object\n"
     ]
    }
   ],
   "source": [
    "# Convert the lesion features to objects from integers\n",
    "lesions = [\"lesion_1\", \"lesion_2\", \"lesion_3\"]\n",
    "df_train[lesions] = df_train[lesions].astype(str)\n",
    "df_test[lesions] = df_test[lesions].astype(str)\n",
    "\n",
    "# Check to see if it worked\n",
    "print(df_train[lesions].dtypes)\n",
    "print(df_test[lesions].dtypes)"
   ]
  },
  {
   "cell_type": "code",
   "execution_count": 7,
   "id": "6b9cf312",
   "metadata": {},
   "outputs": [],
   "source": [
    "# Determine feature data type\n",
    "def feature_type(column):\n",
    "    if column.dtype == \"object\":\n",
    "        return \"Categorical\"\n",
    "    else:\n",
    "        return \"Numerical\"\n",
    "    \n",
    "# Calculate range of values for numerical columns\n",
    "def calc_range(column):\n",
    "    return (column.min(), column.max())\n",
    "\n",
    "# Determine the number of outliers based on IQR\n",
    "def find_outliers(column):\n",
    "    Q1 = column.quantile(0.25)\n",
    "    Q3 = column.quantile(0.75)\n",
    "    IQR = Q3 - Q1\n",
    "    lower_bound = Q1 - 1.5 * IQR\n",
    "    upper_bound = Q3 + 1.5 * IQR\n",
    "    \n",
    "    outliers = column[(column < lower_bound) | (column > upper_bound)]\n",
    "    \n",
    "    return len(outliers)\n",
    "\n",
    "# Create summary table\n",
    "def summary_table(df):\n",
    "    summary = []\n",
    "\n",
    "    for column in df.columns:\n",
    "        \n",
    "        data_type = feature_type(df[column])\n",
    "\n",
    "        if data_type == \"Categorical\":\n",
    "            values = df[column].unique()\n",
    "            outliers = \"N/A\"\n",
    "        else:\n",
    "            values = calc_range(df[column])\n",
    "            outliers = find_outliers(df[column])\n",
    "\n",
    "        summary.append({\n",
    "            \"Feature Name\": column,\n",
    "            \"Feature Type\": data_type,\n",
    "            \"Value Range\": values,\n",
    "            \"Number of Missing Values\": df[column].isnull().sum(),\n",
    "            \"Number of Outliers\": outliers\n",
    "        })\n",
    "        \n",
    "    display(HTML(tabulate.tabulate(summary, tablefmt='html', headers='keys')))"
   ]
  },
  {
   "cell_type": "code",
   "execution_count": 8,
   "id": "840898ff",
   "metadata": {},
   "outputs": [
    {
     "data": {
      "text/html": [
       "<table>\n",
       "<thead>\n",
       "<tr><th>Feature Name         </th><th>Feature Type  </th><th>Value Range                                                                </th><th style=\"text-align: right;\">  Number of Missing Values</th><th>Number of Outliers  </th></tr>\n",
       "</thead>\n",
       "<tbody>\n",
       "<tr><td>id                   </td><td>Numerical     </td><td>(0, 1234)                                                                  </td><td style=\"text-align: right;\">                         0</td><td>0                   </td></tr>\n",
       "<tr><td>surgery              </td><td>Categorical   </td><td>[&#x27;yes&#x27; &#x27;no&#x27;]                                                               </td><td style=\"text-align: right;\">                         0</td><td>N/A                 </td></tr>\n",
       "<tr><td>age                  </td><td>Categorical   </td><td>[&#x27;adult&#x27; &#x27;young&#x27;]                                                          </td><td style=\"text-align: right;\">                         0</td><td>N/A                 </td></tr>\n",
       "<tr><td>hospital_number      </td><td>Numerical     </td><td>(521399, 5305129)                                                          </td><td style=\"text-align: right;\">                         0</td><td>110                 </td></tr>\n",
       "<tr><td>rectal_temp          </td><td>Numerical     </td><td>(35.4, 40.8)                                                               </td><td style=\"text-align: right;\">                         0</td><td>72                  </td></tr>\n",
       "<tr><td>pulse                </td><td>Numerical     </td><td>(30.0, 184.0)                                                              </td><td style=\"text-align: right;\">                         0</td><td>4                   </td></tr>\n",
       "<tr><td>respiratory_rate     </td><td>Numerical     </td><td>(8.0, 96.0)                                                                </td><td style=\"text-align: right;\">                         0</td><td>57                  </td></tr>\n",
       "<tr><td>temp_of_extremities  </td><td>Categorical   </td><td>[&#x27;cool&#x27; &#x27;cold&#x27; &#x27;normal&#x27; &#x27;warm&#x27; nan]                                        </td><td style=\"text-align: right;\">                        39</td><td>N/A                 </td></tr>\n",
       "<tr><td>peripheral_pulse     </td><td>Categorical   </td><td>[&#x27;reduced&#x27; &#x27;normal&#x27; nan &#x27;absent&#x27; &#x27;increased&#x27;]                              </td><td style=\"text-align: right;\">                        60</td><td>N/A                 </td></tr>\n",
       "<tr><td>mucous_membrane      </td><td>Categorical   </td><td>[&#x27;dark_cyanotic&#x27; &#x27;pale_cyanotic&#x27; &#x27;pale_pink&#x27; &#x27;normal_pink&#x27; &#x27;bright_pink&#x27;\n",
       " &#x27;bright_red&#x27; nan]                                                                            </td><td style=\"text-align: right;\">                        21</td><td>N/A                 </td></tr>\n",
       "<tr><td>capillary_refill_time</td><td>Categorical   </td><td>[&#x27;more_3_sec&#x27; &#x27;less_3_sec&#x27; nan &#x27;3&#x27;]                                        </td><td style=\"text-align: right;\">                         6</td><td>N/A                 </td></tr>\n",
       "<tr><td>pain                 </td><td>Categorical   </td><td>[&#x27;depressed&#x27; &#x27;mild_pain&#x27; &#x27;extreme_pain&#x27; &#x27;alert&#x27; &#x27;severe_pain&#x27; nan &#x27;slight&#x27;]</td><td style=\"text-align: right;\">                        44</td><td>N/A                 </td></tr>\n",
       "<tr><td>peristalsis          </td><td>Categorical   </td><td>[&#x27;absent&#x27; &#x27;hypomotile&#x27; &#x27;normal&#x27; &#x27;hypermotile&#x27; nan &#x27;distend_small&#x27;]         </td><td style=\"text-align: right;\">                        20</td><td>N/A                 </td></tr>\n",
       "<tr><td>abdominal_distention </td><td>Categorical   </td><td>[&#x27;slight&#x27; &#x27;moderate&#x27; &#x27;none&#x27; &#x27;severe&#x27; nan]                                  </td><td style=\"text-align: right;\">                        23</td><td>N/A                 </td></tr>\n",
       "<tr><td>nasogastric_tube     </td><td>Categorical   </td><td>[&#x27;slight&#x27; &#x27;none&#x27; &#x27;significant&#x27; nan]                                        </td><td style=\"text-align: right;\">                        80</td><td>N/A                 </td></tr>\n",
       "<tr><td>nasogastric_reflux   </td><td>Categorical   </td><td>[&#x27;less_1_liter&#x27; &#x27;more_1_liter&#x27; &#x27;none&#x27; nan &#x27;slight&#x27;]                        </td><td style=\"text-align: right;\">                        21</td><td>N/A                 </td></tr>\n",
       "<tr><td>nasogastric_reflux_ph</td><td>Numerical     </td><td>(1.0, 7.5)                                                                 </td><td style=\"text-align: right;\">                         0</td><td>0                   </td></tr>\n",
       "<tr><td>rectal_exam_feces    </td><td>Categorical   </td><td>[&#x27;decreased&#x27; &#x27;absent&#x27; nan &#x27;normal&#x27; &#x27;increased&#x27; &#x27;serosanguious&#x27;]            </td><td style=\"text-align: right;\">                       190</td><td>N/A                 </td></tr>\n",
       "<tr><td>abdomen              </td><td>Categorical   </td><td>[&#x27;distend_small&#x27; &#x27;distend_large&#x27; &#x27;normal&#x27; &#x27;firm&#x27; nan &#x27;other&#x27;]              </td><td style=\"text-align: right;\">                       213</td><td>N/A                 </td></tr>\n",
       "<tr><td>packed_cell_volume   </td><td>Numerical     </td><td>(23.0, 75.0)                                                               </td><td style=\"text-align: right;\">                         0</td><td>0                   </td></tr>\n",
       "<tr><td>total_protein        </td><td>Numerical     </td><td>(3.5, 89.0)                                                                </td><td style=\"text-align: right;\">                         0</td><td>300                 </td></tr>\n",
       "<tr><td>abdomo_appearance    </td><td>Categorical   </td><td>[&#x27;serosanguious&#x27; &#x27;cloudy&#x27; &#x27;clear&#x27; nan]                                     </td><td style=\"text-align: right;\">                        48</td><td>N/A                 </td></tr>\n",
       "<tr><td>abdomo_protein       </td><td>Numerical     </td><td>(0.1, 10.1)                                                                </td><td style=\"text-align: right;\">                         0</td><td>19                  </td></tr>\n",
       "<tr><td>surgical_lesion      </td><td>Categorical   </td><td>[&#x27;yes&#x27; &#x27;no&#x27;]                                                               </td><td style=\"text-align: right;\">                         0</td><td>N/A                 </td></tr>\n",
       "<tr><td>lesion_1             </td><td>Categorical   </td><td>[&#x27;2209&#x27; &#x27;2208&#x27; &#x27;5124&#x27; &#x27;0&#x27; &#x27;3111&#x27; &#x27;2207&#x27; &#x27;3209&#x27; &#x27;3205&#x27; &#x27;2124&#x27; &#x27;2206&#x27;\n",
       " &#x27;31110&#x27; &#x27;2205&#x27; &#x27;7111&#x27; &#x27;3207&#x27; &#x27;4206&#x27; &#x27;2113&#x27; &#x27;3113&#x27; &#x27;2112&#x27; &#x27;4205&#x27; &#x27;8300&#x27;\n",
       " &#x27;1400&#x27; &#x27;5400&#x27; &#x27;7209&#x27; &#x27;3115&#x27; &#x27;11124&#x27; &#x27;4207&#x27; &#x27;9400&#x27; &#x27;300&#x27; &#x27;2111&#x27; &#x27;3300&#x27;\n",
       " &#x27;3112&#x27; &#x27;400&#x27; &#x27;2300&#x27; &#x27;2322&#x27; &#x27;3133&#x27; &#x27;4300&#x27; &#x27;3025&#x27; &#x27;8400&#x27; &#x27;1111&#x27; &#x27;5206&#x27;\n",
       " &#x27;11300&#x27; &#x27;4124&#x27; &#x27;12208&#x27; &#x27;6112&#x27; &#x27;7400&#x27; &#x27;5000&#x27; &#x27;5205&#x27; &#x27;2202&#x27; &#x27;3124&#x27; &#x27;5111&#x27;\n",
       " &#x27;6209&#x27; &#x27;11400&#x27; &#x27;6111&#x27; &#x27;2305&#x27; &#x27;21110&#x27; &#x27;1124&#x27; &#x27;41110&#x27;]                                                                            </td><td style=\"text-align: right;\">                         0</td><td>N/A                 </td></tr>\n",
       "<tr><td>lesion_2             </td><td>Categorical   </td><td>[&#x27;0&#x27; &#x27;1400&#x27; &#x27;3111&#x27; &#x27;3112&#x27;]                                                 </td><td style=\"text-align: right;\">                         0</td><td>N/A                 </td></tr>\n",
       "<tr><td>lesion_3             </td><td>Categorical   </td><td>[&#x27;0&#x27; &#x27;2209&#x27;]                                                               </td><td style=\"text-align: right;\">                         0</td><td>N/A                 </td></tr>\n",
       "<tr><td>cp_data              </td><td>Categorical   </td><td>[&#x27;no&#x27; &#x27;yes&#x27;]                                                               </td><td style=\"text-align: right;\">                         0</td><td>N/A                 </td></tr>\n",
       "<tr><td>outcome              </td><td>Categorical   </td><td>[&#x27;died&#x27; &#x27;euthanized&#x27; &#x27;lived&#x27;]                                              </td><td style=\"text-align: right;\">                         0</td><td>N/A                 </td></tr>\n",
       "</tbody>\n",
       "</table>"
      ],
      "text/plain": [
       "<IPython.core.display.HTML object>"
      ]
     },
     "metadata": {},
     "output_type": "display_data"
    }
   ],
   "source": [
    "# Train summary table\n",
    "summary_table(df_train)"
   ]
  },
  {
   "cell_type": "code",
   "execution_count": 9,
   "id": "f29fc2d3",
   "metadata": {},
   "outputs": [
    {
     "data": {
      "text/html": [
       "<table>\n",
       "<thead>\n",
       "<tr><th>Feature Name         </th><th>Feature Type  </th><th>Value Range                                                  </th><th style=\"text-align: right;\">  Number of Missing Values</th><th>Number of Outliers  </th></tr>\n",
       "</thead>\n",
       "<tbody>\n",
       "<tr><td>id                   </td><td>Numerical     </td><td>(1235, 2058)                                                 </td><td style=\"text-align: right;\">                         0</td><td>0                   </td></tr>\n",
       "<tr><td>surgery              </td><td>Categorical   </td><td>[&#x27;no&#x27; &#x27;yes&#x27;]                                                 </td><td style=\"text-align: right;\">                         0</td><td>N/A                 </td></tr>\n",
       "<tr><td>age                  </td><td>Categorical   </td><td>[&#x27;adult&#x27; &#x27;young&#x27;]                                            </td><td style=\"text-align: right;\">                         0</td><td>N/A                 </td></tr>\n",
       "<tr><td>hospital_number      </td><td>Numerical     </td><td>(521399, 5305129)                                            </td><td style=\"text-align: right;\">                         0</td><td>100                 </td></tr>\n",
       "<tr><td>rectal_temp          </td><td>Numerical     </td><td>(36.0, 40.8)                                                 </td><td style=\"text-align: right;\">                         0</td><td>46                  </td></tr>\n",
       "<tr><td>pulse                </td><td>Numerical     </td><td>(36.0, 184.0)                                                </td><td style=\"text-align: right;\">                         0</td><td>1                   </td></tr>\n",
       "<tr><td>respiratory_rate     </td><td>Numerical     </td><td>(9.0, 96.0)                                                  </td><td style=\"text-align: right;\">                         0</td><td>52                  </td></tr>\n",
       "<tr><td>temp_of_extremities  </td><td>Categorical   </td><td>[&#x27;normal&#x27; &#x27;cool&#x27; nan &#x27;cold&#x27; &#x27;warm&#x27;]                          </td><td style=\"text-align: right;\">                        35</td><td>N/A                 </td></tr>\n",
       "<tr><td>peripheral_pulse     </td><td>Categorical   </td><td>[&#x27;normal&#x27; &#x27;reduced&#x27; nan &#x27;absent&#x27; &#x27;increased&#x27;]                </td><td style=\"text-align: right;\">                        47</td><td>N/A                 </td></tr>\n",
       "<tr><td>mucous_membrane      </td><td>Categorical   </td><td>[&#x27;normal_pink&#x27; &#x27;bright_pink&#x27; &#x27;bright_red&#x27; &#x27;pale_cyanotic&#x27; &#x27;dark_cyanotic&#x27;\n",
       " &#x27;pale_pink&#x27; nan]                                                              </td><td style=\"text-align: right;\">                        13</td><td>N/A                 </td></tr>\n",
       "<tr><td>capillary_refill_time</td><td>Categorical   </td><td>[&#x27;less_3_sec&#x27; &#x27;more_3_sec&#x27; nan &#x27;3&#x27;]                          </td><td style=\"text-align: right;\">                         6</td><td>N/A                 </td></tr>\n",
       "<tr><td>pain                 </td><td>Categorical   </td><td>[&#x27;mild_pain&#x27; &#x27;depressed&#x27; &#x27;severe_pain&#x27; &#x27;extreme_pain&#x27; nan &#x27;moderate&#x27;\n",
       " &#x27;alert&#x27;]                                                              </td><td style=\"text-align: right;\">                        29</td><td>N/A                 </td></tr>\n",
       "<tr><td>peristalsis          </td><td>Categorical   </td><td>[&#x27;hypomotile&#x27; &#x27;absent&#x27; &#x27;hypermotile&#x27; nan &#x27;normal&#x27;]           </td><td style=\"text-align: right;\">                        19</td><td>N/A                 </td></tr>\n",
       "<tr><td>abdominal_distention </td><td>Categorical   </td><td>[&#x27;slight&#x27; &#x27;moderate&#x27; &#x27;severe&#x27; &#x27;none&#x27; nan]                    </td><td style=\"text-align: right;\">                        22</td><td>N/A                 </td></tr>\n",
       "<tr><td>nasogastric_tube     </td><td>Categorical   </td><td>[&#x27;none&#x27; &#x27;slight&#x27; nan &#x27;significant&#x27;]                          </td><td style=\"text-align: right;\">                        64</td><td>N/A                 </td></tr>\n",
       "<tr><td>nasogastric_reflux   </td><td>Categorical   </td><td>[&#x27;none&#x27; &#x27;more_1_liter&#x27; &#x27;less_1_liter&#x27; nan]                   </td><td style=\"text-align: right;\">                        14</td><td>N/A                 </td></tr>\n",
       "<tr><td>nasogastric_reflux_ph</td><td>Numerical     </td><td>(1.0, 7.5)                                                   </td><td style=\"text-align: right;\">                         0</td><td>0                   </td></tr>\n",
       "<tr><td>rectal_exam_feces    </td><td>Categorical   </td><td>[&#x27;normal&#x27; &#x27;decreased&#x27; &#x27;absent&#x27; nan &#x27;increased&#x27;]              </td><td style=\"text-align: right;\">                       125</td><td>N/A                 </td></tr>\n",
       "<tr><td>abdomen              </td><td>Categorical   </td><td>[&#x27;distend_small&#x27; &#x27;distend_large&#x27; nan &#x27;other&#x27; &#x27;firm&#x27; &#x27;normal&#x27;]</td><td style=\"text-align: right;\">                       154</td><td>N/A                 </td></tr>\n",
       "<tr><td>packed_cell_volume   </td><td>Numerical     </td><td>(23.0, 75.0)                                                 </td><td style=\"text-align: right;\">                         0</td><td>26                  </td></tr>\n",
       "<tr><td>total_protein        </td><td>Numerical     </td><td>(3.9, 89.0)                                                  </td><td style=\"text-align: right;\">                         0</td><td>190                 </td></tr>\n",
       "<tr><td>abdomo_appearance    </td><td>Categorical   </td><td>[&#x27;clear&#x27; &#x27;serosanguious&#x27; &#x27;cloudy&#x27; nan]                       </td><td style=\"text-align: right;\">                        31</td><td>N/A                 </td></tr>\n",
       "<tr><td>abdomo_protein       </td><td>Numerical     </td><td>(0.1, 10.1)                                                  </td><td style=\"text-align: right;\">                         0</td><td>10                  </td></tr>\n",
       "<tr><td>surgical_lesion      </td><td>Categorical   </td><td>[&#x27;no&#x27; &#x27;yes&#x27;]                                                 </td><td style=\"text-align: right;\">                         0</td><td>N/A                 </td></tr>\n",
       "<tr><td>lesion_1             </td><td>Categorical   </td><td>[&#x27;0&#x27; &#x27;2208&#x27; &#x27;2205&#x27; &#x27;1400&#x27; &#x27;2207&#x27; &#x27;2209&#x27; &#x27;4205&#x27; &#x27;2124&#x27; &#x27;3205&#x27; &#x27;2112&#x27; &#x27;2206&#x27;\n",
       " &#x27;3111&#x27; &#x27;5400&#x27; &#x27;31110&#x27; &#x27;400&#x27; &#x27;8400&#x27; &#x27;2322&#x27; &#x27;5000&#x27; &#x27;12208&#x27; &#x27;2305&#x27; &#x27;2111&#x27;\n",
       " &#x27;37&#x27; &#x27;7209&#x27; &#x27;300&#x27; &#x27;5124&#x27; &#x27;7111&#x27; &#x27;5206&#x27; &#x27;3207&#x27; &#x27;2113&#x27; &#x27;4300&#x27; &#x27;11400&#x27;\n",
       " &#x27;7400&#x27; &#x27;5205&#x27; &#x27;3209&#x27; &#x27;3113&#x27; &#x27;3133&#x27; &#x27;6111&#x27; &#x27;4209&#x27; &#x27;6112&#x27; &#x27;6209&#x27; &#x27;5111&#x27;\n",
       " &#x27;8300&#x27; &#x27;3025&#x27; &#x27;4207&#x27; &#x27;4206&#x27; &#x27;11124&#x27; &#x27;2300&#x27; &#x27;9000&#x27; &#x27;11300&#x27; &#x27;3300&#x27; &#x27;5209&#x27;\n",
       " &#x27;21110&#x27; &#x27;4124&#x27; &#x27;9400&#x27;]                                                              </td><td style=\"text-align: right;\">                         0</td><td>N/A                 </td></tr>\n",
       "<tr><td>lesion_2             </td><td>Categorical   </td><td>[&#x27;0&#x27; &#x27;3111&#x27; &#x27;1400&#x27; &#x27;4300&#x27;]                                   </td><td style=\"text-align: right;\">                         0</td><td>N/A                 </td></tr>\n",
       "<tr><td>lesion_3             </td><td>Categorical   </td><td>[&#x27;0&#x27;]                                                        </td><td style=\"text-align: right;\">                         0</td><td>N/A                 </td></tr>\n",
       "<tr><td>cp_data              </td><td>Categorical   </td><td>[&#x27;no&#x27; &#x27;yes&#x27;]                                                 </td><td style=\"text-align: right;\">                         0</td><td>N/A                 </td></tr>\n",
       "</tbody>\n",
       "</table>"
      ],
      "text/plain": [
       "<IPython.core.display.HTML object>"
      ]
     },
     "metadata": {},
     "output_type": "display_data"
    }
   ],
   "source": [
    "# Test summary table\n",
    "summary_table(df_test)"
   ]
  },
  {
   "cell_type": "markdown",
   "id": "652f70ea",
   "metadata": {},
   "source": [
    "The target variable is encoded as lived, died, or euthanized. There is also a class imbalance present, so we'll have to keep that in account when training the models. Along with the usual metrics I will be computing micro-averaged F1 Score, which will be used to judge the model performance in accordance with the Kaggle challenge."
   ]
  },
  {
   "cell_type": "code",
   "execution_count": 10,
   "id": "1e2d5b65",
   "metadata": {},
   "outputs": [
    {
     "data": {
      "text/plain": [
       "outcome\n",
       "lived         574\n",
       "died          410\n",
       "euthanized    251\n",
       "Name: count, dtype: int64"
      ]
     },
     "execution_count": 10,
     "metadata": {},
     "output_type": "execute_result"
    }
   ],
   "source": [
    "# Counts for each outcome \n",
    "train_outcome = df_train[\"outcome\"].value_counts()\n",
    "train_outcome"
   ]
  },
  {
   "cell_type": "markdown",
   "id": "b85f766c",
   "metadata": {},
   "source": [
    "# Data Visualization"
   ]
  },
  {
   "cell_type": "markdown",
   "id": "67e6a353",
   "metadata": {},
   "source": [
    "Let's split the three outcomes into their own dataframes so we can get a better look at how the features are distributed between the classes."
   ]
  },
  {
   "cell_type": "code",
   "execution_count": 11,
   "id": "a43b673a",
   "metadata": {},
   "outputs": [],
   "source": [
    "# Seperate the classes into their own dataframes based on outcome\n",
    "df_lived = df_train[df_train[\"outcome\"] == \"lived\"]\n",
    "df_died = df_train[df_train[\"outcome\"] == \"died\"]\n",
    "df_euth = df_train[df_train[\"outcome\"] == \"euthanized\"]"
   ]
  },
  {
   "cell_type": "code",
   "execution_count": 12,
   "id": "daad291b",
   "metadata": {},
   "outputs": [
    {
     "name": "stdout",
     "output_type": "stream",
     "text": [
      "['id', 'hospital_number', 'rectal_temp', 'pulse', 'respiratory_rate', 'nasogastric_reflux_ph', 'packed_cell_volume', 'total_protein', 'abdomo_protein'] \n",
      "\n",
      "['abdomen', 'abdominal_distention', 'abdomo_appearance', 'age', 'capillary_refill_time', 'cp_data', 'lesion_1', 'lesion_2', 'lesion_3', 'mucous_membrane', 'nasogastric_reflux', 'nasogastric_tube', 'outcome', 'pain', 'peripheral_pulse', 'peristalsis', 'rectal_exam_feces', 'surgery', 'surgical_lesion', 'temp_of_extremities']\n"
     ]
    }
   ],
   "source": [
    "# Create list of numerical and categorical features\n",
    "numerical = ['id', 'hospital_number', 'rectal_temp', 'pulse', 'respiratory_rate', \n",
    "             'nasogastric_reflux_ph', 'packed_cell_volume', 'total_protein', 'abdomo_protein']\n",
    "\n",
    "categorical = list(df_train.columns.difference(numerical))\n",
    "\n",
    "print(numerical,\"\\n\")\n",
    "print(categorical)"
   ]
  },
  {
   "cell_type": "markdown",
   "id": "d632d7e6",
   "metadata": {},
   "source": [
    "Several of these numerical features already look promising. A majority of the horses who lived are within the 30-80 range in pulse, which is in and around the healthy range. In the euthanized class, a large portion of these horses had a pH of 2 and higher packed_cell_volumes, which are both out the of range of healthy, normal levels for those features. Abdomo_protein levels were around 2 and almost all of the horses who died have low levels of total_protein."
   ]
  },
  {
   "cell_type": "code",
   "execution_count": 13,
   "id": "c0c16b39",
   "metadata": {},
   "outputs": [
    {
     "data": {
      "image/png": "[encoded data removed]",
      "text/plain": [
       "<Figure size 1500x1500 with 9 Axes>"
      ]
     },
     "metadata": {},
     "output_type": "display_data"
    }
   ],
   "source": [
    "# Create a subplot to hold histograms\n",
    "fig, axes = plt.subplots(3, 3, figsize=(15, 15))\n",
    "axes = axes.flatten()\n",
    "\n",
    "# Create the overlayed histograms\n",
    "for i, column in enumerate(numerical):\n",
    "    axes[i].hist(df_euth[column], bins=10, density=1, label=\"Euthanized\", alpha=0.5)\n",
    "    axes[i].hist(df_lived[column], bins=10, density=1, label=\"Lived\", alpha=0.5)\n",
    "    axes[i].hist(df_died[column], bins=10, density=1, label=\"Died\", alpha=0.5)\n",
    "    axes[i].set_title(f'Histogram of {column}')\n",
    "    axes[i].set_xlabel(column)\n",
    "    axes[i].set_ylabel('Density')\n",
    "    axes[i].legend()\n",
    "\n",
    "# Display the histograms\n",
    "plt.tight_layout()\n",
    "plt.show()"
   ]
  },
  {
   "cell_type": "markdown",
   "id": "ee23391c",
   "metadata": {},
   "source": [
    "Let's begin to take a look at the categorical features. Visualizing the outcome column, the class imbalance is even clearer. "
   ]
  },
  {
   "cell_type": "code",
   "execution_count": 14,
   "id": "21ae9ea5",
   "metadata": {},
   "outputs": [
    {
     "data": {
      "image/png": "[encoded data removed]",
      "text/plain": [
       "<Figure size 640x480 with 1 Axes>"
      ]
     },
     "metadata": {},
     "output_type": "display_data"
    }
   ],
   "source": [
    "# Sum of each outcome\n",
    "count_euthanized = (df_train['outcome'] == 'euthanized').sum()\n",
    "count_lived = (df_train['outcome'] == 'lived').sum()\n",
    "count_died = (df_train['outcome'] == 'died').sum()\n",
    "\n",
    "# Create barplot of all outcomes\n",
    "plt.bar(['euthanized'], [count_euthanized], label=\"euthanized\")\n",
    "plt.bar(['lived'], [count_lived], label=\"lived\")\n",
    "plt.bar(['died'], [count_died], label=\"died\")\n",
    "plt.title(\"Outcomes\")\n",
    "plt.ylabel(\"Count\")\n",
    "plt.legend()\n",
    "plt.show()"
   ]
  },
  {
   "cell_type": "markdown",
   "id": "c5779488",
   "metadata": {},
   "source": [
    "For the rest of the categorical variables, let's create tables that shows the fraction of each class that belongs to each category in a column."
   ]
  },
  {
   "cell_type": "code",
   "execution_count": 15,
   "id": "3af6a86e",
   "metadata": {},
   "outputs": [
    {
     "name": "stdout",
     "output_type": "stream",
     "text": [
      "abdomen\n"
     ]
    },
    {
     "data": {
      "text/html": [
       "<table>\n",
       "<thead>\n",
       "<tr><th>          </th><th style=\"text-align: right;\">  distend_small</th><th style=\"text-align: right;\">  distend_large</th><th style=\"text-align: right;\">   normal</th><th style=\"text-align: right;\">     firm</th><th style=\"text-align: right;\">     other</th></tr>\n",
       "</thead>\n",
       "<tbody>\n",
       "<tr><td>Euthanized</td><td style=\"text-align: right;\">       0.445545</td><td style=\"text-align: right;\">       0.460396</td><td style=\"text-align: right;\">0.0445545</td><td style=\"text-align: right;\">0.039604 </td><td style=\"text-align: right;\">0.00990099</td></tr>\n",
       "<tr><td>Died      </td><td style=\"text-align: right;\">       0.543284</td><td style=\"text-align: right;\">       0.370149</td><td style=\"text-align: right;\">0.0686567</td><td style=\"text-align: right;\">0.0119403</td><td style=\"text-align: right;\">0.00597015</td></tr>\n",
       "<tr><td>Lived     </td><td style=\"text-align: right;\">       0.43299 </td><td style=\"text-align: right;\">       0.292784</td><td style=\"text-align: right;\">0.0907216</td><td style=\"text-align: right;\">0.123711 </td><td style=\"text-align: right;\">0.0597938 </td></tr>\n",
       "</tbody>\n",
       "</table>"
      ],
      "text/plain": [
       "<IPython.core.display.HTML object>"
      ]
     },
     "metadata": {},
     "output_type": "display_data"
    },
    {
     "name": "stdout",
     "output_type": "stream",
     "text": [
      "abdominal_distention\n"
     ]
    },
    {
     "data": {
      "text/html": [
       "<table>\n",
       "<thead>\n",
       "<tr><th>          </th><th style=\"text-align: right;\">  slight</th><th style=\"text-align: right;\">  moderate</th><th style=\"text-align: right;\">     none</th><th style=\"text-align: right;\">   severe</th></tr>\n",
       "</thead>\n",
       "<tbody>\n",
       "<tr><td>Euthanized</td><td style=\"text-align: right;\">0.190678</td><td style=\"text-align: right;\">  0.495763</td><td style=\"text-align: right;\">0.127119 </td><td style=\"text-align: right;\">0.186441 </td></tr>\n",
       "<tr><td>Died      </td><td style=\"text-align: right;\">0.226044</td><td style=\"text-align: right;\">  0.55774 </td><td style=\"text-align: right;\">0.0982801</td><td style=\"text-align: right;\">0.117936 </td></tr>\n",
       "<tr><td>Lived     </td><td style=\"text-align: right;\">0.367311</td><td style=\"text-align: right;\">  0.349736</td><td style=\"text-align: right;\">0.249561 </td><td style=\"text-align: right;\">0.0333919</td></tr>\n",
       "</tbody>\n",
       "</table>"
      ],
      "text/plain": [
       "<IPython.core.display.HTML object>"
      ]
     },
     "metadata": {},
     "output_type": "display_data"
    },
    {
     "name": "stdout",
     "output_type": "stream",
     "text": [
      "abdomo_appearance\n"
     ]
    },
    {
     "data": {
      "text/html": [
       "<table>\n",
       "<thead>\n",
       "<tr><th>          </th><th style=\"text-align: right;\">  serosanguious</th><th style=\"text-align: right;\">  cloudy</th><th style=\"text-align: right;\">    clear</th></tr>\n",
       "</thead>\n",
       "<tbody>\n",
       "<tr><td>Euthanized</td><td style=\"text-align: right;\">       0.575758</td><td style=\"text-align: right;\">0.307359</td><td style=\"text-align: right;\">0.116883 </td></tr>\n",
       "<tr><td>Died      </td><td style=\"text-align: right;\">       0.671679</td><td style=\"text-align: right;\">0.230576</td><td style=\"text-align: right;\">0.0977444</td></tr>\n",
       "<tr><td>Lived     </td><td style=\"text-align: right;\">       0.303411</td><td style=\"text-align: right;\">0.351885</td><td style=\"text-align: right;\">0.344704 </td></tr>\n",
       "</tbody>\n",
       "</table>"
      ],
      "text/plain": [
       "<IPython.core.display.HTML object>"
      ]
     },
     "metadata": {},
     "output_type": "display_data"
    },
    {
     "name": "stdout",
     "output_type": "stream",
     "text": [
      "age\n"
     ]
    },
    {
     "data": {
      "text/html": [
       "<table>\n",
       "<thead>\n",
       "<tr><th>          </th><th style=\"text-align: right;\">   adult</th><th style=\"text-align: right;\">    young</th></tr>\n",
       "</thead>\n",
       "<tbody>\n",
       "<tr><td>Euthanized</td><td style=\"text-align: right;\">0.988048</td><td style=\"text-align: right;\">0.0119522</td></tr>\n",
       "<tr><td>Died      </td><td style=\"text-align: right;\">0.868293</td><td style=\"text-align: right;\">0.131707 </td></tr>\n",
       "<tr><td>Lived     </td><td style=\"text-align: right;\">0.968641</td><td style=\"text-align: right;\">0.0313589</td></tr>\n",
       "</tbody>\n",
       "</table>"
      ],
      "text/plain": [
       "<IPython.core.display.HTML object>"
      ]
     },
     "metadata": {},
     "output_type": "display_data"
    },
    {
     "name": "stdout",
     "output_type": "stream",
     "text": [
      "capillary_refill_time\n"
     ]
    },
    {
     "data": {
      "text/html": [
       "<table>\n",
       "<thead>\n",
       "<tr><th>          </th><th style=\"text-align: right;\">  more_3_sec</th><th style=\"text-align: right;\">  less_3_sec</th><th style=\"text-align: right;\">         3</th></tr>\n",
       "</thead>\n",
       "<tbody>\n",
       "<tr><td>Euthanized</td><td style=\"text-align: right;\">    0.421687</td><td style=\"text-align: right;\">    0.574297</td><td style=\"text-align: right;\">0.00401606</td></tr>\n",
       "<tr><td>Died      </td><td style=\"text-align: right;\">    0.46683 </td><td style=\"text-align: right;\">    0.53317 </td><td style=\"text-align: right;\">0         </td></tr>\n",
       "<tr><td>Lived     </td><td style=\"text-align: right;\">    0.17103 </td><td style=\"text-align: right;\">    0.827225</td><td style=\"text-align: right;\">0.0017452 </td></tr>\n",
       "</tbody>\n",
       "</table>"
      ],
      "text/plain": [
       "<IPython.core.display.HTML object>"
      ]
     },
     "metadata": {},
     "output_type": "display_data"
    },
    {
     "name": "stdout",
     "output_type": "stream",
     "text": [
      "cp_data\n"
     ]
    },
    {
     "data": {
      "text/html": [
       "<table>\n",
       "<thead>\n",
       "<tr><th>          </th><th style=\"text-align: right;\">      no</th><th style=\"text-align: right;\">     yes</th></tr>\n",
       "</thead>\n",
       "<tbody>\n",
       "<tr><td>Euthanized</td><td style=\"text-align: right;\">0.709163</td><td style=\"text-align: right;\">0.290837</td></tr>\n",
       "<tr><td>Died      </td><td style=\"text-align: right;\">0.409756</td><td style=\"text-align: right;\">0.590244</td></tr>\n",
       "<tr><td>Lived     </td><td style=\"text-align: right;\">0.385017</td><td style=\"text-align: right;\">0.614983</td></tr>\n",
       "</tbody>\n",
       "</table>"
      ],
      "text/plain": [
       "<IPython.core.display.HTML object>"
      ]
     },
     "metadata": {},
     "output_type": "display_data"
    },
    {
     "name": "stdout",
     "output_type": "stream",
     "text": [
      "lesion_1\n"
     ]
    },
    {
     "data": {
      "text/html": [
       "<table>\n",
       "<thead>\n",
       "<tr><th>          </th><th style=\"text-align: right;\">     2209</th><th style=\"text-align: right;\">    2208</th><th style=\"text-align: right;\">      5124</th><th style=\"text-align: right;\">        0</th><th style=\"text-align: right;\">     3111</th><th style=\"text-align: right;\">     2207</th><th style=\"text-align: right;\">      3209</th><th style=\"text-align: right;\">    3205</th><th style=\"text-align: right;\">      2124</th><th style=\"text-align: right;\">     2206</th><th style=\"text-align: right;\">    31110</th><th style=\"text-align: right;\">     2205</th><th style=\"text-align: right;\">     7111</th><th style=\"text-align: right;\">      3207</th><th style=\"text-align: right;\">      4206</th><th style=\"text-align: right;\">      2113</th><th style=\"text-align: right;\">      3113</th><th style=\"text-align: right;\">     2112</th><th style=\"text-align: right;\">     4205</th><th style=\"text-align: right;\">      8300</th><th style=\"text-align: right;\">      1400</th><th style=\"text-align: right;\">     5400</th><th style=\"text-align: right;\">      7209</th><th style=\"text-align: right;\">      3115</th><th style=\"text-align: right;\">     11124</th><th style=\"text-align: right;\">      4207</th><th style=\"text-align: right;\">     9400</th><th style=\"text-align: right;\">       300</th><th style=\"text-align: right;\">      2111</th><th style=\"text-align: right;\">      3300</th><th style=\"text-align: right;\">      3112</th><th style=\"text-align: right;\">       400</th><th style=\"text-align: right;\">      2300</th><th style=\"text-align: right;\">      2322</th><th style=\"text-align: right;\">      3133</th><th style=\"text-align: right;\">      4300</th><th style=\"text-align: right;\">      3025</th><th style=\"text-align: right;\">      8400</th><th style=\"text-align: right;\">      1111</th><th style=\"text-align: right;\">      5206</th><th style=\"text-align: right;\">     11300</th><th style=\"text-align: right;\">      4124</th><th style=\"text-align: right;\">     12208</th><th style=\"text-align: right;\">      6112</th><th style=\"text-align: right;\">      7400</th><th style=\"text-align: right;\">     5000</th><th style=\"text-align: right;\">      5205</th><th style=\"text-align: right;\">      2202</th><th style=\"text-align: right;\">      3124</th><th style=\"text-align: right;\">      5111</th><th style=\"text-align: right;\">      6209</th><th style=\"text-align: right;\">     11400</th><th style=\"text-align: right;\">      6111</th><th style=\"text-align: right;\">      2305</th><th style=\"text-align: right;\">     21110</th><th style=\"text-align: right;\">      1124</th><th style=\"text-align: right;\">     41110</th></tr>\n",
       "</thead>\n",
       "<tbody>\n",
       "<tr><td>Euthanized</td><td style=\"text-align: right;\">0.143426 </td><td style=\"text-align: right;\">0.131474</td><td style=\"text-align: right;\">0         </td><td style=\"text-align: right;\">0.0159363</td><td style=\"text-align: right;\">0.0557769</td><td style=\"text-align: right;\">0.0478088</td><td style=\"text-align: right;\">0.00796813</td><td style=\"text-align: right;\">0.179283</td><td style=\"text-align: right;\">0.00398406</td><td style=\"text-align: right;\">0.0119522</td><td style=\"text-align: right;\">0.0159363</td><td style=\"text-align: right;\">0.0956175</td><td style=\"text-align: right;\">0.0199203</td><td style=\"text-align: right;\">0         </td><td style=\"text-align: right;\">0.00398406</td><td style=\"text-align: right;\">0.0278884 </td><td style=\"text-align: right;\">0         </td><td style=\"text-align: right;\">0        </td><td style=\"text-align: right;\">0.0278884</td><td style=\"text-align: right;\">0.00398406</td><td style=\"text-align: right;\">0.103586  </td><td style=\"text-align: right;\">0.0119522</td><td style=\"text-align: right;\">0.00796813</td><td style=\"text-align: right;\">0         </td><td style=\"text-align: right;\">0         </td><td style=\"text-align: right;\">0         </td><td style=\"text-align: right;\">0        </td><td style=\"text-align: right;\">0         </td><td style=\"text-align: right;\">0         </td><td style=\"text-align: right;\">0         </td><td style=\"text-align: right;\">0         </td><td style=\"text-align: right;\">0         </td><td style=\"text-align: right;\">0.00796813</td><td style=\"text-align: right;\">0.0119522 </td><td style=\"text-align: right;\">0         </td><td style=\"text-align: right;\">0.00796813</td><td style=\"text-align: right;\">0         </td><td style=\"text-align: right;\">0         </td><td style=\"text-align: right;\">0         </td><td style=\"text-align: right;\">0.0119522 </td><td style=\"text-align: right;\">0         </td><td style=\"text-align: right;\">0         </td><td style=\"text-align: right;\">0         </td><td style=\"text-align: right;\">0         </td><td style=\"text-align: right;\">0.0239044 </td><td style=\"text-align: right;\">0        </td><td style=\"text-align: right;\">0.00398406</td><td style=\"text-align: right;\">0         </td><td style=\"text-align: right;\">0.00398406</td><td style=\"text-align: right;\">0         </td><td style=\"text-align: right;\">0.00398406</td><td style=\"text-align: right;\">0         </td><td style=\"text-align: right;\">0         </td><td style=\"text-align: right;\">0         </td><td style=\"text-align: right;\">0.00398406</td><td style=\"text-align: right;\">0         </td><td style=\"text-align: right;\">0.00398406</td></tr>\n",
       "<tr><td>Died      </td><td style=\"text-align: right;\">0.0707317</td><td style=\"text-align: right;\">0.139024</td><td style=\"text-align: right;\">0.00243902</td><td style=\"text-align: right;\">0.0097561</td><td style=\"text-align: right;\">0.0097561</td><td style=\"text-align: right;\">0.0170732</td><td style=\"text-align: right;\">0.0219512 </td><td style=\"text-align: right;\">0.112195</td><td style=\"text-align: right;\">0.0097561 </td><td style=\"text-align: right;\">0.0268293</td><td style=\"text-align: right;\">0.0170732</td><td style=\"text-align: right;\">0.121951 </td><td style=\"text-align: right;\">0.0439024</td><td style=\"text-align: right;\">0.0097561 </td><td style=\"text-align: right;\">0.00243902</td><td style=\"text-align: right;\">0.00487805</td><td style=\"text-align: right;\">0.00243902</td><td style=\"text-align: right;\">0.0463415</td><td style=\"text-align: right;\">0.0658537</td><td style=\"text-align: right;\">0         </td><td style=\"text-align: right;\">0.0536585 </td><td style=\"text-align: right;\">0.0585366</td><td style=\"text-align: right;\">0.0170732 </td><td style=\"text-align: right;\">0.00243902</td><td style=\"text-align: right;\">0         </td><td style=\"text-align: right;\">0.00243902</td><td style=\"text-align: right;\">0        </td><td style=\"text-align: right;\">0.00243902</td><td style=\"text-align: right;\">0.00243902</td><td style=\"text-align: right;\">0.00243902</td><td style=\"text-align: right;\">0         </td><td style=\"text-align: right;\">0.00731707</td><td style=\"text-align: right;\">0.0097561 </td><td style=\"text-align: right;\">0         </td><td style=\"text-align: right;\">0.00243902</td><td style=\"text-align: right;\">0.00731707</td><td style=\"text-align: right;\">0.0170732 </td><td style=\"text-align: right;\">0.00731707</td><td style=\"text-align: right;\">0         </td><td style=\"text-align: right;\">0.00487805</td><td style=\"text-align: right;\">0.00731707</td><td style=\"text-align: right;\">0.00243902</td><td style=\"text-align: right;\">0.0170732 </td><td style=\"text-align: right;\">0         </td><td style=\"text-align: right;\">0.0170732 </td><td style=\"text-align: right;\">0        </td><td style=\"text-align: right;\">0.00243902</td><td style=\"text-align: right;\">0.00243902</td><td style=\"text-align: right;\">0         </td><td style=\"text-align: right;\">0         </td><td style=\"text-align: right;\">0.00243902</td><td style=\"text-align: right;\">0.00487805</td><td style=\"text-align: right;\">0.00731707</td><td style=\"text-align: right;\">0.00243902</td><td style=\"text-align: right;\">0         </td><td style=\"text-align: right;\">0.00243902</td><td style=\"text-align: right;\">0         </td></tr>\n",
       "<tr><td>Lived     </td><td style=\"text-align: right;\">0.0644599</td><td style=\"text-align: right;\">0.108014</td><td style=\"text-align: right;\">0.00174216</td><td style=\"text-align: right;\">0.149826 </td><td style=\"text-align: right;\">0.127178 </td><td style=\"text-align: right;\">0.0121951</td><td style=\"text-align: right;\">0.00348432</td><td style=\"text-align: right;\">0.043554</td><td style=\"text-align: right;\">0.0818815 </td><td style=\"text-align: right;\">0.0365854</td><td style=\"text-align: right;\">0.0487805</td><td style=\"text-align: right;\">0.0522648</td><td style=\"text-align: right;\">0.0139373</td><td style=\"text-align: right;\">0.00348432</td><td style=\"text-align: right;\">0.00174216</td><td style=\"text-align: right;\">0.0365854 </td><td style=\"text-align: right;\">0.0087108 </td><td style=\"text-align: right;\">0.0365854</td><td style=\"text-align: right;\">0.0191638</td><td style=\"text-align: right;\">0.010453  </td><td style=\"text-align: right;\">0.00174216</td><td style=\"text-align: right;\">0.0139373</td><td style=\"text-align: right;\">0.00522648</td><td style=\"text-align: right;\">0.00522648</td><td style=\"text-align: right;\">0.00174216</td><td style=\"text-align: right;\">0         </td><td style=\"text-align: right;\">0.0087108</td><td style=\"text-align: right;\">0.00174216</td><td style=\"text-align: right;\">0.00348432</td><td style=\"text-align: right;\">0         </td><td style=\"text-align: right;\">0.00174216</td><td style=\"text-align: right;\">0.0209059 </td><td style=\"text-align: right;\">0.00348432</td><td style=\"text-align: right;\">0.00522648</td><td style=\"text-align: right;\">0.00522648</td><td style=\"text-align: right;\">0.00696864</td><td style=\"text-align: right;\">0.00348432</td><td style=\"text-align: right;\">0.00348432</td><td style=\"text-align: right;\">0.00348432</td><td style=\"text-align: right;\">0.00174216</td><td style=\"text-align: right;\">0.00174216</td><td style=\"text-align: right;\">0.00348432</td><td style=\"text-align: right;\">0.00174216</td><td style=\"text-align: right;\">0.00348432</td><td style=\"text-align: right;\">0.00174216</td><td style=\"text-align: right;\">0.0087108</td><td style=\"text-align: right;\">0.00348432</td><td style=\"text-align: right;\">0         </td><td style=\"text-align: right;\">0.00174216</td><td style=\"text-align: right;\">0.00696864</td><td style=\"text-align: right;\">0         </td><td style=\"text-align: right;\">0.00174216</td><td style=\"text-align: right;\">0.00174216</td><td style=\"text-align: right;\">0.00174216</td><td style=\"text-align: right;\">0         </td><td style=\"text-align: right;\">0.00348432</td><td style=\"text-align: right;\">0         </td></tr>\n",
       "</tbody>\n",
       "</table>"
      ],
      "text/plain": [
       "<IPython.core.display.HTML object>"
      ]
     },
     "metadata": {},
     "output_type": "display_data"
    },
    {
     "name": "stdout",
     "output_type": "stream",
     "text": [
      "lesion_2\n"
     ]
    },
    {
     "data": {
      "text/html": [
       "<table>\n",
       "<thead>\n",
       "<tr><th>          </th><th style=\"text-align: right;\">       0</th><th style=\"text-align: right;\">     1400</th><th style=\"text-align: right;\">      3111</th><th style=\"text-align: right;\">      3112</th></tr>\n",
       "</thead>\n",
       "<tbody>\n",
       "<tr><td>Euthanized</td><td style=\"text-align: right;\">0.98008 </td><td style=\"text-align: right;\">0.0159363</td><td style=\"text-align: right;\">0.00398406</td><td style=\"text-align: right;\">0         </td></tr>\n",
       "<tr><td>Died      </td><td style=\"text-align: right;\">1       </td><td style=\"text-align: right;\">0        </td><td style=\"text-align: right;\">0         </td><td style=\"text-align: right;\">0         </td></tr>\n",
       "<tr><td>Lived     </td><td style=\"text-align: right;\">0.994774</td><td style=\"text-align: right;\">0        </td><td style=\"text-align: right;\">0.00174216</td><td style=\"text-align: right;\">0.00348432</td></tr>\n",
       "</tbody>\n",
       "</table>"
      ],
      "text/plain": [
       "<IPython.core.display.HTML object>"
      ]
     },
     "metadata": {},
     "output_type": "display_data"
    },
    {
     "name": "stdout",
     "output_type": "stream",
     "text": [
      "lesion_3\n"
     ]
    },
    {
     "data": {
      "text/html": [
       "<table>\n",
       "<thead>\n",
       "<tr><th>          </th><th style=\"text-align: right;\">       0</th><th style=\"text-align: right;\">      2209</th></tr>\n",
       "</thead>\n",
       "<tbody>\n",
       "<tr><td>Euthanized</td><td style=\"text-align: right;\">0.996016</td><td style=\"text-align: right;\">0.00398406</td></tr>\n",
       "<tr><td>Died      </td><td style=\"text-align: right;\">1       </td><td style=\"text-align: right;\">0         </td></tr>\n",
       "<tr><td>Lived     </td><td style=\"text-align: right;\">0.998258</td><td style=\"text-align: right;\">0.00174216</td></tr>\n",
       "</tbody>\n",
       "</table>"
      ],
      "text/plain": [
       "<IPython.core.display.HTML object>"
      ]
     },
     "metadata": {},
     "output_type": "display_data"
    },
    {
     "name": "stdout",
     "output_type": "stream",
     "text": [
      "mucous_membrane\n"
     ]
    },
    {
     "data": {
      "text/html": [
       "<table>\n",
       "<thead>\n",
       "<tr><th>          </th><th style=\"text-align: right;\">  dark_cyanotic</th><th style=\"text-align: right;\">  pale_cyanotic</th><th style=\"text-align: right;\">  pale_pink</th><th style=\"text-align: right;\">  normal_pink</th><th style=\"text-align: right;\">  bright_pink</th><th style=\"text-align: right;\">  bright_red</th></tr>\n",
       "</thead>\n",
       "<tbody>\n",
       "<tr><td>Euthanized</td><td style=\"text-align: right;\">      0.121951 </td><td style=\"text-align: right;\">       0.321138</td><td style=\"text-align: right;\">   0.211382</td><td style=\"text-align: right;\">    0.142276 </td><td style=\"text-align: right;\">    0.0487805</td><td style=\"text-align: right;\">    0.154472</td></tr>\n",
       "<tr><td>Died      </td><td style=\"text-align: right;\">      0.151365 </td><td style=\"text-align: right;\">       0.263027</td><td style=\"text-align: right;\">   0.218362</td><td style=\"text-align: right;\">    0.0769231</td><td style=\"text-align: right;\">    0.0794045</td><td style=\"text-align: right;\">    0.210918</td></tr>\n",
       "<tr><td>Lived     </td><td style=\"text-align: right;\">      0.0530973</td><td style=\"text-align: right;\">       0.115044</td><td style=\"text-align: right;\">   0.254867</td><td style=\"text-align: right;\">    0.343363 </td><td style=\"text-align: right;\">    0.0778761</td><td style=\"text-align: right;\">    0.155752</td></tr>\n",
       "</tbody>\n",
       "</table>"
      ],
      "text/plain": [
       "<IPython.core.display.HTML object>"
      ]
     },
     "metadata": {},
     "output_type": "display_data"
    },
    {
     "name": "stdout",
     "output_type": "stream",
     "text": [
      "nasogastric_reflux\n"
     ]
    },
    {
     "data": {
      "text/html": [
       "<table>\n",
       "<thead>\n",
       "<tr><th>          </th><th style=\"text-align: right;\">  less_1_liter</th><th style=\"text-align: right;\">  more_1_liter</th><th style=\"text-align: right;\">    none</th><th style=\"text-align: right;\">    slight</th></tr>\n",
       "</thead>\n",
       "<tbody>\n",
       "<tr><td>Euthanized</td><td style=\"text-align: right;\">      0.164   </td><td style=\"text-align: right;\">      0.672   </td><td style=\"text-align: right;\">0.164   </td><td style=\"text-align: right;\">0         </td></tr>\n",
       "<tr><td>Died      </td><td style=\"text-align: right;\">      0.237037</td><td style=\"text-align: right;\">      0.464198</td><td style=\"text-align: right;\">0.298765</td><td style=\"text-align: right;\">0         </td></tr>\n",
       "<tr><td>Lived     </td><td style=\"text-align: right;\">      0.252236</td><td style=\"text-align: right;\">      0.443649</td><td style=\"text-align: right;\">0.302326</td><td style=\"text-align: right;\">0.00178891</td></tr>\n",
       "</tbody>\n",
       "</table>"
      ],
      "text/plain": [
       "<IPython.core.display.HTML object>"
      ]
     },
     "metadata": {},
     "output_type": "display_data"
    },
    {
     "name": "stdout",
     "output_type": "stream",
     "text": [
      "nasogastric_tube\n"
     ]
    },
    {
     "data": {
      "text/html": [
       "<table>\n",
       "<thead>\n",
       "<tr><th>          </th><th style=\"text-align: right;\">  slight</th><th style=\"text-align: right;\">    none</th><th style=\"text-align: right;\">  significant</th></tr>\n",
       "</thead>\n",
       "<tbody>\n",
       "<tr><td>Euthanized</td><td style=\"text-align: right;\">0.506726</td><td style=\"text-align: right;\">0.327354</td><td style=\"text-align: right;\">    0.165919 </td></tr>\n",
       "<tr><td>Died      </td><td style=\"text-align: right;\">0.659631</td><td style=\"text-align: right;\">0.234828</td><td style=\"text-align: right;\">    0.105541 </td></tr>\n",
       "<tr><td>Lived     </td><td style=\"text-align: right;\">0.714286</td><td style=\"text-align: right;\">0.20434 </td><td style=\"text-align: right;\">    0.0813743</td></tr>\n",
       "</tbody>\n",
       "</table>"
      ],
      "text/plain": [
       "<IPython.core.display.HTML object>"
      ]
     },
     "metadata": {},
     "output_type": "display_data"
    },
    {
     "name": "stdout",
     "output_type": "stream",
     "text": [
      "outcome\n"
     ]
    },
    {
     "data": {
      "text/html": [
       "<table>\n",
       "<thead>\n",
       "<tr><th>          </th><th style=\"text-align: right;\">  died</th><th style=\"text-align: right;\">  euthanized</th><th style=\"text-align: right;\">  lived</th></tr>\n",
       "</thead>\n",
       "<tbody>\n",
       "<tr><td>Euthanized</td><td style=\"text-align: right;\">     0</td><td style=\"text-align: right;\">           1</td><td style=\"text-align: right;\">      0</td></tr>\n",
       "<tr><td>Died      </td><td style=\"text-align: right;\">     1</td><td style=\"text-align: right;\">           0</td><td style=\"text-align: right;\">      0</td></tr>\n",
       "<tr><td>Lived     </td><td style=\"text-align: right;\">     0</td><td style=\"text-align: right;\">           0</td><td style=\"text-align: right;\">      1</td></tr>\n",
       "</tbody>\n",
       "</table>"
      ],
      "text/plain": [
       "<IPython.core.display.HTML object>"
      ]
     },
     "metadata": {},
     "output_type": "display_data"
    },
    {
     "name": "stdout",
     "output_type": "stream",
     "text": [
      "pain\n"
     ]
    },
    {
     "data": {
      "text/html": [
       "<table>\n",
       "<thead>\n",
       "<tr><th>          </th><th style=\"text-align: right;\">  depressed</th><th style=\"text-align: right;\">  mild_pain</th><th style=\"text-align: right;\">  extreme_pain</th><th style=\"text-align: right;\">     alert</th><th style=\"text-align: right;\">  severe_pain</th><th style=\"text-align: right;\">    slight</th></tr>\n",
       "</thead>\n",
       "<tbody>\n",
       "<tr><td>Euthanized</td><td style=\"text-align: right;\">   0.45614 </td><td style=\"text-align: right;\">   0.219298</td><td style=\"text-align: right;\">     0.0789474</td><td style=\"text-align: right;\">0.0131579 </td><td style=\"text-align: right;\">    0.22807  </td><td style=\"text-align: right;\">0.00438596</td></tr>\n",
       "<tr><td>Died      </td><td style=\"text-align: right;\">   0.432099</td><td style=\"text-align: right;\">   0.190123</td><td style=\"text-align: right;\">     0.2      </td><td style=\"text-align: right;\">0.00246914</td><td style=\"text-align: right;\">    0.175309 </td><td style=\"text-align: right;\">0         </td></tr>\n",
       "<tr><td>Lived     </td><td style=\"text-align: right;\">   0.268817</td><td style=\"text-align: right;\">   0.503584</td><td style=\"text-align: right;\">     0.0376344</td><td style=\"text-align: right;\">0.148746  </td><td style=\"text-align: right;\">    0.0412186</td><td style=\"text-align: right;\">0         </td></tr>\n",
       "</tbody>\n",
       "</table>"
      ],
      "text/plain": [
       "<IPython.core.display.HTML object>"
      ]
     },
     "metadata": {},
     "output_type": "display_data"
    },
    {
     "name": "stdout",
     "output_type": "stream",
     "text": [
      "peripheral_pulse\n"
     ]
    },
    {
     "data": {
      "text/html": [
       "<table>\n",
       "<thead>\n",
       "<tr><th>          </th><th style=\"text-align: right;\">  reduced</th><th style=\"text-align: right;\">  normal</th><th style=\"text-align: right;\">    absent</th><th style=\"text-align: right;\">  increased</th></tr>\n",
       "</thead>\n",
       "<tbody>\n",
       "<tr><td>Euthanized</td><td style=\"text-align: right;\"> 0.764444</td><td style=\"text-align: right;\">0.186667</td><td style=\"text-align: right;\">0.0488889 </td><td style=\"text-align: right;\"> 0         </td></tr>\n",
       "<tr><td>Died      </td><td style=\"text-align: right;\"> 0.760599</td><td style=\"text-align: right;\">0.229426</td><td style=\"text-align: right;\">0.0074813 </td><td style=\"text-align: right;\"> 0.00249377</td></tr>\n",
       "<tr><td>Lived     </td><td style=\"text-align: right;\"> 0.449909</td><td style=\"text-align: right;\">0.537341</td><td style=\"text-align: right;\">0.00728597</td><td style=\"text-align: right;\"> 0.00546448</td></tr>\n",
       "</tbody>\n",
       "</table>"
      ],
      "text/plain": [
       "<IPython.core.display.HTML object>"
      ]
     },
     "metadata": {},
     "output_type": "display_data"
    },
    {
     "name": "stdout",
     "output_type": "stream",
     "text": [
      "peristalsis\n"
     ]
    },
    {
     "data": {
      "text/html": [
       "<table>\n",
       "<thead>\n",
       "<tr><th>          </th><th style=\"text-align: right;\">  absent</th><th style=\"text-align: right;\">  hypomotile</th><th style=\"text-align: right;\">    normal</th><th style=\"text-align: right;\">  hypermotile</th><th style=\"text-align: right;\">  distend_small</th></tr>\n",
       "</thead>\n",
       "<tbody>\n",
       "<tr><td>Euthanized</td><td style=\"text-align: right;\">0.566116</td><td style=\"text-align: right;\">    0.359504</td><td style=\"text-align: right;\">0.0619835 </td><td style=\"text-align: right;\">   0.00826446</td><td style=\"text-align: right;\">     0.00413223</td></tr>\n",
       "<tr><td>Died      </td><td style=\"text-align: right;\">0.419753</td><td style=\"text-align: right;\">    0.555556</td><td style=\"text-align: right;\">0.00740741</td><td style=\"text-align: right;\">   0.017284  </td><td style=\"text-align: right;\">     0         </td></tr>\n",
       "<tr><td>Lived     </td><td style=\"text-align: right;\">0.241197</td><td style=\"text-align: right;\">    0.619718</td><td style=\"text-align: right;\">0.0616197 </td><td style=\"text-align: right;\">   0.0774648 </td><td style=\"text-align: right;\">     0         </td></tr>\n",
       "</tbody>\n",
       "</table>"
      ],
      "text/plain": [
       "<IPython.core.display.HTML object>"
      ]
     },
     "metadata": {},
     "output_type": "display_data"
    },
    {
     "name": "stdout",
     "output_type": "stream",
     "text": [
      "rectal_exam_feces\n"
     ]
    },
    {
     "data": {
      "text/html": [
       "<table>\n",
       "<thead>\n",
       "<tr><th>          </th><th style=\"text-align: right;\">  decreased</th><th style=\"text-align: right;\">  absent</th><th style=\"text-align: right;\">  normal</th><th style=\"text-align: right;\">  increased</th><th style=\"text-align: right;\">  serosanguious</th></tr>\n",
       "</thead>\n",
       "<tbody>\n",
       "<tr><td>Euthanized</td><td style=\"text-align: right;\">   0.216374</td><td style=\"text-align: right;\">0.561404</td><td style=\"text-align: right;\">0.216374</td><td style=\"text-align: right;\"> 0.00584795</td><td style=\"text-align: right;\">     0         </td></tr>\n",
       "<tr><td>Died      </td><td style=\"text-align: right;\">   0.214854</td><td style=\"text-align: right;\">0.586207</td><td style=\"text-align: right;\">0.148541</td><td style=\"text-align: right;\"> 0.0503979 </td><td style=\"text-align: right;\">     0         </td></tr>\n",
       "<tr><td>Lived     </td><td style=\"text-align: right;\">   0.303823</td><td style=\"text-align: right;\">0.354125</td><td style=\"text-align: right;\">0.28169 </td><td style=\"text-align: right;\"> 0.0583501 </td><td style=\"text-align: right;\">     0.00201207</td></tr>\n",
       "</tbody>\n",
       "</table>"
      ],
      "text/plain": [
       "<IPython.core.display.HTML object>"
      ]
     },
     "metadata": {},
     "output_type": "display_data"
    },
    {
     "name": "stdout",
     "output_type": "stream",
     "text": [
      "surgery\n"
     ]
    },
    {
     "data": {
      "text/html": [
       "<table>\n",
       "<thead>\n",
       "<tr><th>          </th><th style=\"text-align: right;\">     yes</th><th style=\"text-align: right;\">      no</th></tr>\n",
       "</thead>\n",
       "<tbody>\n",
       "<tr><td>Euthanized</td><td style=\"text-align: right;\">0.685259</td><td style=\"text-align: right;\">0.314741</td></tr>\n",
       "<tr><td>Died      </td><td style=\"text-align: right;\">0.819512</td><td style=\"text-align: right;\">0.180488</td></tr>\n",
       "<tr><td>Lived     </td><td style=\"text-align: right;\">0.660279</td><td style=\"text-align: right;\">0.339721</td></tr>\n",
       "</tbody>\n",
       "</table>"
      ],
      "text/plain": [
       "<IPython.core.display.HTML object>"
      ]
     },
     "metadata": {},
     "output_type": "display_data"
    },
    {
     "name": "stdout",
     "output_type": "stream",
     "text": [
      "surgical_lesion\n"
     ]
    },
    {
     "data": {
      "text/html": [
       "<table>\n",
       "<thead>\n",
       "<tr><th>          </th><th style=\"text-align: right;\">     yes</th><th style=\"text-align: right;\">       no</th></tr>\n",
       "</thead>\n",
       "<tbody>\n",
       "<tr><td>Euthanized</td><td style=\"text-align: right;\">0.713147</td><td style=\"text-align: right;\">0.286853 </td></tr>\n",
       "<tr><td>Died      </td><td style=\"text-align: right;\">0.914634</td><td style=\"text-align: right;\">0.0853659</td></tr>\n",
       "<tr><td>Lived     </td><td style=\"text-align: right;\">0.65331 </td><td style=\"text-align: right;\">0.34669  </td></tr>\n",
       "</tbody>\n",
       "</table>"
      ],
      "text/plain": [
       "<IPython.core.display.HTML object>"
      ]
     },
     "metadata": {},
     "output_type": "display_data"
    },
    {
     "name": "stdout",
     "output_type": "stream",
     "text": [
      "temp_of_extremities\n"
     ]
    },
    {
     "data": {
      "text/html": [
       "<table>\n",
       "<thead>\n",
       "<tr><th>          </th><th style=\"text-align: right;\">    cool</th><th style=\"text-align: right;\">     cold</th><th style=\"text-align: right;\">   normal</th><th style=\"text-align: right;\">     warm</th></tr>\n",
       "</thead>\n",
       "<tbody>\n",
       "<tr><td>Euthanized</td><td style=\"text-align: right;\">0.757322</td><td style=\"text-align: right;\">0.129707 </td><td style=\"text-align: right;\">0.0920502</td><td style=\"text-align: right;\">0.0209205</td></tr>\n",
       "<tr><td>Died      </td><td style=\"text-align: right;\">0.659148</td><td style=\"text-align: right;\">0.135338 </td><td style=\"text-align: right;\">0.175439 </td><td style=\"text-align: right;\">0.0300752</td></tr>\n",
       "<tr><td>Lived     </td><td style=\"text-align: right;\">0.458781</td><td style=\"text-align: right;\">0.0645161</td><td style=\"text-align: right;\">0.415771 </td><td style=\"text-align: right;\">0.0609319</td></tr>\n",
       "</tbody>\n",
       "</table>"
      ],
      "text/plain": [
       "<IPython.core.display.HTML object>"
      ]
     },
     "metadata": {},
     "output_type": "display_data"
    }
   ],
   "source": [
    "# Function that compares how much of each class belongs to a certain feature\n",
    "def compare_categorical(df, column_name, selections):\n",
    "    out = list()\n",
    "\n",
    "    all_values = df[column_name].dropna().unique()\n",
    "    for label, selection in selections.items():        \n",
    "        df_0 = df[selection].dropna(subset=[column_name])\n",
    "        total = len(df_0)\n",
    "        out.append([label] + [np.sum(df_0[column_name] == val) / total if total > 0 else 0 for val in all_values])\n",
    "        \n",
    "    return out, all_values\n",
    "\n",
    "# Dictionary of class selections \n",
    "selection_dict = {\"Euthanized\":df_train[\"outcome\"] == \"euthanized\",\n",
    "                 \"Died\":df_train[\"outcome\"] == \"died\",\n",
    "                 \"Lived\":df_train[\"outcome\"] == \"lived\"}\n",
    "\n",
    "# Create a table for each feature\n",
    "for feature in categorical:\n",
    "    print(feature)\n",
    "    results = compare_categorical(df_train, feature, selection_dict)\n",
    "    display(HTML(tabulate.tabulate(results[0], tablefmt='html', headers=results[1])))"
   ]
  },
  {
   "cell_type": "markdown",
   "id": "ba201ccb",
   "metadata": {},
   "source": [
    "Several features seem to be good indicators for if a horse was euthanized or died. 81% of dead horses had been treated with surgery and 91% had a surgical lesion. 13% of young horses died compared to <1% that were euthanized or lived. Large portions of the euthanized and dead horses had reduced peripheral pulse, moderate stomach distension, or serosanguious abdomo_appearence. Features like capillary_refill_time seem good for the living class given 82% had a capillary_refill_time of <3 sec, which is considered healthy based on documentation."
   ]
  },
  {
   "cell_type": "markdown",
   "id": "27be9198",
   "metadata": {},
   "source": [
    "# Data Cleaning and Preperation"
   ]
  },
  {
   "cell_type": "markdown",
   "id": "ac3a63a9",
   "metadata": {},
   "source": [
    "As we observed earlier, the testing dataset had outliers and missing values, so we will have to process it along with the training one. We'll start out by removing redundant columns like id, hospital_number, and cp_data. The first two are just identifiers and the last was stated to have no significance. I'll also drop lesion_2 and lesion_3 because across all the classes almost every horse is marked as having no lesion in those features, indicating it's most likely not gonna contribute much to the model."
   ]
  },
  {
   "cell_type": "code",
   "execution_count": 16,
   "id": "37cdcab5",
   "metadata": {},
   "outputs": [
    {
     "data": {
      "text/plain": [
       "0      1235\n",
       "1      1236\n",
       "2      1237\n",
       "3      1238\n",
       "4      1239\n",
       "       ... \n",
       "819    2054\n",
       "820    2055\n",
       "821    2056\n",
       "822    2057\n",
       "823    2058\n",
       "Name: id, Length: 824, dtype: int64"
      ]
     },
     "execution_count": 16,
     "metadata": {},
     "output_type": "execute_result"
    }
   ],
   "source": [
    "# Save a copy of the 'id' column in test to use for my submission file\n",
    "test_ids = df_test['id'].copy()\n",
    "test_ids"
   ]
  },
  {
   "cell_type": "code",
   "execution_count": 17,
   "id": "e36acd14",
   "metadata": {},
   "outputs": [],
   "source": [
    "# Remove the redundant columns\n",
    "df_train = df_train.drop(columns=[\"id\", \"hospital_number\", \"cp_data\", \"lesion_2\", \"lesion_3\"])\n",
    "df_test = df_test.drop(columns=[\"id\", \"hospital_number\", \"cp_data\", \"lesion_2\", \"lesion_3\"])"
   ]
  },
  {
   "cell_type": "code",
   "execution_count": 18,
   "id": "b0f18ed9",
   "metadata": {},
   "outputs": [
    {
     "data": {
      "text/html": [
       "<div>\n",
       "<style scoped>\n",
       "    .dataframe tbody tr th:only-of-type {\n",
       "        vertical-align: middle;\n",
       "    }\n",
       "\n",
       "    .dataframe tbody tr th {\n",
       "        vertical-align: top;\n",
       "    }\n",
       "\n",
       "    .dataframe thead th {\n",
       "        text-align: right;\n",
       "    }\n",
       "</style>\n",
       "<table border=\"1\" class=\"dataframe\">\n",
       "  <thead>\n",
       "    <tr style=\"text-align: right;\">\n",
       "      <th></th>\n",
       "      <th>surgery</th>\n",
       "      <th>age</th>\n",
       "      <th>rectal_temp</th>\n",
       "      <th>pulse</th>\n",
       "      <th>respiratory_rate</th>\n",
       "      <th>temp_of_extremities</th>\n",
       "      <th>peripheral_pulse</th>\n",
       "      <th>mucous_membrane</th>\n",
       "      <th>capillary_refill_time</th>\n",
       "      <th>pain</th>\n",
       "      <th>...</th>\n",
       "      <th>nasogastric_reflux_ph</th>\n",
       "      <th>rectal_exam_feces</th>\n",
       "      <th>abdomen</th>\n",
       "      <th>packed_cell_volume</th>\n",
       "      <th>total_protein</th>\n",
       "      <th>abdomo_appearance</th>\n",
       "      <th>abdomo_protein</th>\n",
       "      <th>surgical_lesion</th>\n",
       "      <th>lesion_1</th>\n",
       "      <th>outcome</th>\n",
       "    </tr>\n",
       "  </thead>\n",
       "  <tbody>\n",
       "    <tr>\n",
       "      <th>0</th>\n",
       "      <td>yes</td>\n",
       "      <td>adult</td>\n",
       "      <td>38.1</td>\n",
       "      <td>132.0</td>\n",
       "      <td>24.0</td>\n",
       "      <td>cool</td>\n",
       "      <td>reduced</td>\n",
       "      <td>dark_cyanotic</td>\n",
       "      <td>more_3_sec</td>\n",
       "      <td>depressed</td>\n",
       "      <td>...</td>\n",
       "      <td>6.5</td>\n",
       "      <td>decreased</td>\n",
       "      <td>distend_small</td>\n",
       "      <td>57.0</td>\n",
       "      <td>8.5</td>\n",
       "      <td>serosanguious</td>\n",
       "      <td>3.4</td>\n",
       "      <td>yes</td>\n",
       "      <td>2209</td>\n",
       "      <td>died</td>\n",
       "    </tr>\n",
       "    <tr>\n",
       "      <th>1</th>\n",
       "      <td>yes</td>\n",
       "      <td>adult</td>\n",
       "      <td>37.5</td>\n",
       "      <td>88.0</td>\n",
       "      <td>12.0</td>\n",
       "      <td>cool</td>\n",
       "      <td>normal</td>\n",
       "      <td>pale_cyanotic</td>\n",
       "      <td>more_3_sec</td>\n",
       "      <td>mild_pain</td>\n",
       "      <td>...</td>\n",
       "      <td>2.0</td>\n",
       "      <td>absent</td>\n",
       "      <td>distend_small</td>\n",
       "      <td>33.0</td>\n",
       "      <td>64.0</td>\n",
       "      <td>serosanguious</td>\n",
       "      <td>2.0</td>\n",
       "      <td>yes</td>\n",
       "      <td>2208</td>\n",
       "      <td>euthanized</td>\n",
       "    </tr>\n",
       "    <tr>\n",
       "      <th>2</th>\n",
       "      <td>yes</td>\n",
       "      <td>adult</td>\n",
       "      <td>38.3</td>\n",
       "      <td>120.0</td>\n",
       "      <td>28.0</td>\n",
       "      <td>cool</td>\n",
       "      <td>reduced</td>\n",
       "      <td>pale_pink</td>\n",
       "      <td>less_3_sec</td>\n",
       "      <td>extreme_pain</td>\n",
       "      <td>...</td>\n",
       "      <td>3.5</td>\n",
       "      <td>NaN</td>\n",
       "      <td>distend_large</td>\n",
       "      <td>37.0</td>\n",
       "      <td>6.4</td>\n",
       "      <td>serosanguious</td>\n",
       "      <td>3.4</td>\n",
       "      <td>yes</td>\n",
       "      <td>5124</td>\n",
       "      <td>lived</td>\n",
       "    </tr>\n",
       "    <tr>\n",
       "      <th>3</th>\n",
       "      <td>yes</td>\n",
       "      <td>adult</td>\n",
       "      <td>37.1</td>\n",
       "      <td>72.0</td>\n",
       "      <td>30.0</td>\n",
       "      <td>cold</td>\n",
       "      <td>reduced</td>\n",
       "      <td>pale_pink</td>\n",
       "      <td>more_3_sec</td>\n",
       "      <td>mild_pain</td>\n",
       "      <td>...</td>\n",
       "      <td>2.0</td>\n",
       "      <td>decreased</td>\n",
       "      <td>distend_small</td>\n",
       "      <td>53.0</td>\n",
       "      <td>7.0</td>\n",
       "      <td>cloudy</td>\n",
       "      <td>3.9</td>\n",
       "      <td>yes</td>\n",
       "      <td>2208</td>\n",
       "      <td>lived</td>\n",
       "    </tr>\n",
       "    <tr>\n",
       "      <th>4</th>\n",
       "      <td>no</td>\n",
       "      <td>adult</td>\n",
       "      <td>38.0</td>\n",
       "      <td>52.0</td>\n",
       "      <td>48.0</td>\n",
       "      <td>normal</td>\n",
       "      <td>normal</td>\n",
       "      <td>normal_pink</td>\n",
       "      <td>less_3_sec</td>\n",
       "      <td>alert</td>\n",
       "      <td>...</td>\n",
       "      <td>7.0</td>\n",
       "      <td>normal</td>\n",
       "      <td>normal</td>\n",
       "      <td>47.0</td>\n",
       "      <td>7.3</td>\n",
       "      <td>cloudy</td>\n",
       "      <td>2.6</td>\n",
       "      <td>no</td>\n",
       "      <td>0</td>\n",
       "      <td>lived</td>\n",
       "    </tr>\n",
       "  </tbody>\n",
       "</table>\n",
       "<p>5 rows × 24 columns</p>\n",
       "</div>"
      ],
      "text/plain": [
       "  surgery    age  rectal_temp  pulse  respiratory_rate temp_of_extremities  \\\n",
       "0     yes  adult         38.1  132.0              24.0                cool   \n",
       "1     yes  adult         37.5   88.0              12.0                cool   \n",
       "2     yes  adult         38.3  120.0              28.0                cool   \n",
       "3     yes  adult         37.1   72.0              30.0                cold   \n",
       "4      no  adult         38.0   52.0              48.0              normal   \n",
       "\n",
       "  peripheral_pulse mucous_membrane capillary_refill_time          pain  ...  \\\n",
       "0          reduced   dark_cyanotic            more_3_sec     depressed  ...   \n",
       "1           normal   pale_cyanotic            more_3_sec     mild_pain  ...   \n",
       "2          reduced       pale_pink            less_3_sec  extreme_pain  ...   \n",
       "3          reduced       pale_pink            more_3_sec     mild_pain  ...   \n",
       "4           normal     normal_pink            less_3_sec         alert  ...   \n",
       "\n",
       "  nasogastric_reflux_ph rectal_exam_feces        abdomen packed_cell_volume  \\\n",
       "0                   6.5         decreased  distend_small               57.0   \n",
       "1                   2.0            absent  distend_small               33.0   \n",
       "2                   3.5               NaN  distend_large               37.0   \n",
       "3                   2.0         decreased  distend_small               53.0   \n",
       "4                   7.0            normal         normal               47.0   \n",
       "\n",
       "   total_protein abdomo_appearance abdomo_protein  surgical_lesion  lesion_1  \\\n",
       "0            8.5     serosanguious            3.4              yes      2209   \n",
       "1           64.0     serosanguious            2.0              yes      2208   \n",
       "2            6.4     serosanguious            3.4              yes      5124   \n",
       "3            7.0            cloudy            3.9              yes      2208   \n",
       "4            7.3            cloudy            2.6               no         0   \n",
       "\n",
       "      outcome  \n",
       "0        died  \n",
       "1  euthanized  \n",
       "2       lived  \n",
       "3       lived  \n",
       "4       lived  \n",
       "\n",
       "[5 rows x 24 columns]"
      ]
     },
     "execution_count": 18,
     "metadata": {},
     "output_type": "execute_result"
    }
   ],
   "source": [
    "df_train.head(5)"
   ]
  },
  {
   "cell_type": "code",
   "execution_count": 19,
   "id": "09f536fa",
   "metadata": {},
   "outputs": [
    {
     "data": {
      "text/html": [
       "<div>\n",
       "<style scoped>\n",
       "    .dataframe tbody tr th:only-of-type {\n",
       "        vertical-align: middle;\n",
       "    }\n",
       "\n",
       "    .dataframe tbody tr th {\n",
       "        vertical-align: top;\n",
       "    }\n",
       "\n",
       "    .dataframe thead th {\n",
       "        text-align: right;\n",
       "    }\n",
       "</style>\n",
       "<table border=\"1\" class=\"dataframe\">\n",
       "  <thead>\n",
       "    <tr style=\"text-align: right;\">\n",
       "      <th></th>\n",
       "      <th>surgery</th>\n",
       "      <th>age</th>\n",
       "      <th>rectal_temp</th>\n",
       "      <th>pulse</th>\n",
       "      <th>respiratory_rate</th>\n",
       "      <th>temp_of_extremities</th>\n",
       "      <th>peripheral_pulse</th>\n",
       "      <th>mucous_membrane</th>\n",
       "      <th>capillary_refill_time</th>\n",
       "      <th>pain</th>\n",
       "      <th>...</th>\n",
       "      <th>nasogastric_reflux</th>\n",
       "      <th>nasogastric_reflux_ph</th>\n",
       "      <th>rectal_exam_feces</th>\n",
       "      <th>abdomen</th>\n",
       "      <th>packed_cell_volume</th>\n",
       "      <th>total_protein</th>\n",
       "      <th>abdomo_appearance</th>\n",
       "      <th>abdomo_protein</th>\n",
       "      <th>surgical_lesion</th>\n",
       "      <th>lesion_1</th>\n",
       "    </tr>\n",
       "  </thead>\n",
       "  <tbody>\n",
       "    <tr>\n",
       "      <th>0</th>\n",
       "      <td>no</td>\n",
       "      <td>adult</td>\n",
       "      <td>38.6</td>\n",
       "      <td>40.0</td>\n",
       "      <td>20.0</td>\n",
       "      <td>normal</td>\n",
       "      <td>normal</td>\n",
       "      <td>normal_pink</td>\n",
       "      <td>less_3_sec</td>\n",
       "      <td>mild_pain</td>\n",
       "      <td>...</td>\n",
       "      <td>none</td>\n",
       "      <td>7.0</td>\n",
       "      <td>normal</td>\n",
       "      <td>distend_small</td>\n",
       "      <td>42.0</td>\n",
       "      <td>7.5</td>\n",
       "      <td>clear</td>\n",
       "      <td>2.3</td>\n",
       "      <td>no</td>\n",
       "      <td>0</td>\n",
       "    </tr>\n",
       "    <tr>\n",
       "      <th>1</th>\n",
       "      <td>yes</td>\n",
       "      <td>adult</td>\n",
       "      <td>38.2</td>\n",
       "      <td>112.0</td>\n",
       "      <td>48.0</td>\n",
       "      <td>cool</td>\n",
       "      <td>reduced</td>\n",
       "      <td>bright_pink</td>\n",
       "      <td>more_3_sec</td>\n",
       "      <td>depressed</td>\n",
       "      <td>...</td>\n",
       "      <td>none</td>\n",
       "      <td>3.5</td>\n",
       "      <td>decreased</td>\n",
       "      <td>distend_small</td>\n",
       "      <td>44.0</td>\n",
       "      <td>6.0</td>\n",
       "      <td>serosanguious</td>\n",
       "      <td>2.6</td>\n",
       "      <td>no</td>\n",
       "      <td>2208</td>\n",
       "    </tr>\n",
       "    <tr>\n",
       "      <th>2</th>\n",
       "      <td>yes</td>\n",
       "      <td>adult</td>\n",
       "      <td>37.7</td>\n",
       "      <td>66.0</td>\n",
       "      <td>12.0</td>\n",
       "      <td>cool</td>\n",
       "      <td>normal</td>\n",
       "      <td>bright_red</td>\n",
       "      <td>less_3_sec</td>\n",
       "      <td>mild_pain</td>\n",
       "      <td>...</td>\n",
       "      <td>none</td>\n",
       "      <td>3.0</td>\n",
       "      <td>normal</td>\n",
       "      <td>distend_small</td>\n",
       "      <td>31.5</td>\n",
       "      <td>6.0</td>\n",
       "      <td>cloudy</td>\n",
       "      <td>1.6</td>\n",
       "      <td>yes</td>\n",
       "      <td>2205</td>\n",
       "    </tr>\n",
       "    <tr>\n",
       "      <th>3</th>\n",
       "      <td>no</td>\n",
       "      <td>adult</td>\n",
       "      <td>37.1</td>\n",
       "      <td>88.0</td>\n",
       "      <td>20.0</td>\n",
       "      <td>cool</td>\n",
       "      <td>reduced</td>\n",
       "      <td>pale_cyanotic</td>\n",
       "      <td>less_3_sec</td>\n",
       "      <td>depressed</td>\n",
       "      <td>...</td>\n",
       "      <td>more_1_liter</td>\n",
       "      <td>2.0</td>\n",
       "      <td>absent</td>\n",
       "      <td>distend_large</td>\n",
       "      <td>75.0</td>\n",
       "      <td>81.0</td>\n",
       "      <td>NaN</td>\n",
       "      <td>1.0</td>\n",
       "      <td>yes</td>\n",
       "      <td>1400</td>\n",
       "    </tr>\n",
       "    <tr>\n",
       "      <th>4</th>\n",
       "      <td>yes</td>\n",
       "      <td>adult</td>\n",
       "      <td>38.3</td>\n",
       "      <td>50.0</td>\n",
       "      <td>12.0</td>\n",
       "      <td>NaN</td>\n",
       "      <td>normal</td>\n",
       "      <td>bright_pink</td>\n",
       "      <td>less_3_sec</td>\n",
       "      <td>mild_pain</td>\n",
       "      <td>...</td>\n",
       "      <td>none</td>\n",
       "      <td>3.0</td>\n",
       "      <td>decreased</td>\n",
       "      <td>distend_small</td>\n",
       "      <td>37.0</td>\n",
       "      <td>6.8</td>\n",
       "      <td>cloudy</td>\n",
       "      <td>2.6</td>\n",
       "      <td>yes</td>\n",
       "      <td>2208</td>\n",
       "    </tr>\n",
       "  </tbody>\n",
       "</table>\n",
       "<p>5 rows × 23 columns</p>\n",
       "</div>"
      ],
      "text/plain": [
       "  surgery    age  rectal_temp  pulse  respiratory_rate temp_of_extremities  \\\n",
       "0      no  adult         38.6   40.0              20.0              normal   \n",
       "1     yes  adult         38.2  112.0              48.0                cool   \n",
       "2     yes  adult         37.7   66.0              12.0                cool   \n",
       "3      no  adult         37.1   88.0              20.0                cool   \n",
       "4     yes  adult         38.3   50.0              12.0                 NaN   \n",
       "\n",
       "  peripheral_pulse mucous_membrane capillary_refill_time       pain  ...  \\\n",
       "0           normal     normal_pink            less_3_sec  mild_pain  ...   \n",
       "1          reduced     bright_pink            more_3_sec  depressed  ...   \n",
       "2           normal      bright_red            less_3_sec  mild_pain  ...   \n",
       "3          reduced   pale_cyanotic            less_3_sec  depressed  ...   \n",
       "4           normal     bright_pink            less_3_sec  mild_pain  ...   \n",
       "\n",
       "  nasogastric_reflux nasogastric_reflux_ph rectal_exam_feces        abdomen  \\\n",
       "0               none                   7.0            normal  distend_small   \n",
       "1               none                   3.5         decreased  distend_small   \n",
       "2               none                   3.0            normal  distend_small   \n",
       "3       more_1_liter                   2.0            absent  distend_large   \n",
       "4               none                   3.0         decreased  distend_small   \n",
       "\n",
       "   packed_cell_volume total_protein abdomo_appearance  abdomo_protein  \\\n",
       "0                42.0           7.5             clear             2.3   \n",
       "1                44.0           6.0     serosanguious             2.6   \n",
       "2                31.5           6.0            cloudy             1.6   \n",
       "3                75.0          81.0               NaN             1.0   \n",
       "4                37.0           6.8            cloudy             2.6   \n",
       "\n",
       "   surgical_lesion lesion_1  \n",
       "0               no        0  \n",
       "1               no     2208  \n",
       "2              yes     2205  \n",
       "3              yes     1400  \n",
       "4              yes     2208  \n",
       "\n",
       "[5 rows x 23 columns]"
      ]
     },
     "execution_count": 19,
     "metadata": {},
     "output_type": "execute_result"
    }
   ],
   "source": [
    "df_test.head(5)"
   ]
  },
  {
   "cell_type": "markdown",
   "id": "4e21b3c0",
   "metadata": {},
   "source": [
    "Now onto outliers and missing values. Since we already have a small dataset, we want to avoid removing information if possible. Nothing has to be done to the numerical features because they have no missing values in either dataset. Missing values in categorical columns will be replaced with the mode of their respective column. I will leave the outliers in since as we observed before, values outside of the normal range are likely indicators that a horse will die or have to be euthanized. Remember, whatever we do to train we must also do to test. Scaling is also unecessary since I'll be using a tree based model."
   ]
  },
  {
   "cell_type": "code",
   "execution_count": 20,
   "id": "a0c10244",
   "metadata": {},
   "outputs": [
    {
     "data": {
      "text/plain": [
       "Index(['surgery', 'age', 'temp_of_extremities', 'peripheral_pulse',\n",
       "       'mucous_membrane', 'capillary_refill_time', 'pain', 'peristalsis',\n",
       "       'abdominal_distention', 'nasogastric_tube', 'nasogastric_reflux',\n",
       "       'rectal_exam_feces', 'abdomen', 'abdomo_appearance', 'surgical_lesion',\n",
       "       'lesion_1'],\n",
       "      dtype='object')"
      ]
     },
     "execution_count": 20,
     "metadata": {},
     "output_type": "execute_result"
    }
   ],
   "source": [
    "# Redefine the new categorical variables but without the cp_data or outcome\n",
    "categorical = df_test.select_dtypes(include=[\"object\"]).columns\n",
    "categorical"
   ]
  },
  {
   "cell_type": "code",
   "execution_count": 21,
   "id": "1e5c7442",
   "metadata": {},
   "outputs": [],
   "source": [
    "# Replace the missing values in the categorical features with mode\n",
    "for column in categorical:\n",
    "    mode = df_train[column].mode()[0]\n",
    "    df_train[column].fillna(mode, inplace = True)\n",
    "    df_test[column].fillna(mode, inplace = True)"
   ]
  },
  {
   "cell_type": "code",
   "execution_count": 22,
   "id": "56822a46",
   "metadata": {},
   "outputs": [
    {
     "data": {
      "text/plain": [
       "surgery                  0\n",
       "age                      0\n",
       "rectal_temp              0\n",
       "pulse                    0\n",
       "respiratory_rate         0\n",
       "temp_of_extremities      0\n",
       "peripheral_pulse         0\n",
       "mucous_membrane          0\n",
       "capillary_refill_time    0\n",
       "pain                     0\n",
       "peristalsis              0\n",
       "abdominal_distention     0\n",
       "nasogastric_tube         0\n",
       "nasogastric_reflux       0\n",
       "nasogastric_reflux_ph    0\n",
       "rectal_exam_feces        0\n",
       "abdomen                  0\n",
       "packed_cell_volume       0\n",
       "total_protein            0\n",
       "abdomo_appearance        0\n",
       "abdomo_protein           0\n",
       "surgical_lesion          0\n",
       "lesion_1                 0\n",
       "outcome                  0\n",
       "dtype: int64"
      ]
     },
     "execution_count": 22,
     "metadata": {},
     "output_type": "execute_result"
    }
   ],
   "source": [
    "# Check values were replaced correctly\n",
    "df_train.isnull().sum()"
   ]
  },
  {
   "cell_type": "code",
   "execution_count": 23,
   "id": "f4b3d79d",
   "metadata": {},
   "outputs": [
    {
     "data": {
      "text/plain": [
       "surgery                  0\n",
       "age                      0\n",
       "rectal_temp              0\n",
       "pulse                    0\n",
       "respiratory_rate         0\n",
       "temp_of_extremities      0\n",
       "peripheral_pulse         0\n",
       "mucous_membrane          0\n",
       "capillary_refill_time    0\n",
       "pain                     0\n",
       "peristalsis              0\n",
       "abdominal_distention     0\n",
       "nasogastric_tube         0\n",
       "nasogastric_reflux       0\n",
       "nasogastric_reflux_ph    0\n",
       "rectal_exam_feces        0\n",
       "abdomen                  0\n",
       "packed_cell_volume       0\n",
       "total_protein            0\n",
       "abdomo_appearance        0\n",
       "abdomo_protein           0\n",
       "surgical_lesion          0\n",
       "lesion_1                 0\n",
       "dtype: int64"
      ]
     },
     "execution_count": 23,
     "metadata": {},
     "output_type": "execute_result"
    }
   ],
   "source": [
    "# Check values were replaced correctly\n",
    "df_test.isnull().sum()"
   ]
  },
  {
   "cell_type": "markdown",
   "id": "2070fd3b",
   "metadata": {},
   "source": [
    "Let's look at the visualizations for the categorical features now that the missing values have been handled. Looking at the numerical columns again isn't necessary since nothing was done to them. "
   ]
  },
  {
   "cell_type": "code",
   "execution_count": 24,
   "id": "1f535044",
   "metadata": {
    "scrolled": true
   },
   "outputs": [
    {
     "name": "stdout",
     "output_type": "stream",
     "text": [
      "surgery\n"
     ]
    },
    {
     "data": {
      "text/html": [
       "<table>\n",
       "<thead>\n",
       "<tr><th>          </th><th style=\"text-align: right;\">     yes</th><th style=\"text-align: right;\">      no</th></tr>\n",
       "</thead>\n",
       "<tbody>\n",
       "<tr><td>Euthanized</td><td style=\"text-align: right;\">0.685259</td><td style=\"text-align: right;\">0.314741</td></tr>\n",
       "<tr><td>Died      </td><td style=\"text-align: right;\">0.819512</td><td style=\"text-align: right;\">0.180488</td></tr>\n",
       "<tr><td>Lived     </td><td style=\"text-align: right;\">0.660279</td><td style=\"text-align: right;\">0.339721</td></tr>\n",
       "</tbody>\n",
       "</table>"
      ],
      "text/plain": [
       "<IPython.core.display.HTML object>"
      ]
     },
     "metadata": {},
     "output_type": "display_data"
    },
    {
     "name": "stdout",
     "output_type": "stream",
     "text": [
      "age\n"
     ]
    },
    {
     "data": {
      "text/html": [
       "<table>\n",
       "<thead>\n",
       "<tr><th>          </th><th style=\"text-align: right;\">   adult</th><th style=\"text-align: right;\">    young</th></tr>\n",
       "</thead>\n",
       "<tbody>\n",
       "<tr><td>Euthanized</td><td style=\"text-align: right;\">0.988048</td><td style=\"text-align: right;\">0.0119522</td></tr>\n",
       "<tr><td>Died      </td><td style=\"text-align: right;\">0.868293</td><td style=\"text-align: right;\">0.131707 </td></tr>\n",
       "<tr><td>Lived     </td><td style=\"text-align: right;\">0.968641</td><td style=\"text-align: right;\">0.0313589</td></tr>\n",
       "</tbody>\n",
       "</table>"
      ],
      "text/plain": [
       "<IPython.core.display.HTML object>"
      ]
     },
     "metadata": {},
     "output_type": "display_data"
    },
    {
     "name": "stdout",
     "output_type": "stream",
     "text": [
      "temp_of_extremities\n"
     ]
    },
    {
     "data": {
      "text/html": [
       "<table>\n",
       "<thead>\n",
       "<tr><th>          </th><th style=\"text-align: right;\">    cool</th><th style=\"text-align: right;\">     cold</th><th style=\"text-align: right;\">   normal</th><th style=\"text-align: right;\">     warm</th></tr>\n",
       "</thead>\n",
       "<tbody>\n",
       "<tr><td>Euthanized</td><td style=\"text-align: right;\">0.768924</td><td style=\"text-align: right;\">0.123506 </td><td style=\"text-align: right;\">0.0876494</td><td style=\"text-align: right;\">0.0199203</td></tr>\n",
       "<tr><td>Died      </td><td style=\"text-align: right;\">0.668293</td><td style=\"text-align: right;\">0.131707 </td><td style=\"text-align: right;\">0.170732 </td><td style=\"text-align: right;\">0.0292683</td></tr>\n",
       "<tr><td>Lived     </td><td style=\"text-align: right;\">0.473868</td><td style=\"text-align: right;\">0.0627178</td><td style=\"text-align: right;\">0.404181 </td><td style=\"text-align: right;\">0.0592334</td></tr>\n",
       "</tbody>\n",
       "</table>"
      ],
      "text/plain": [
       "<IPython.core.display.HTML object>"
      ]
     },
     "metadata": {},
     "output_type": "display_data"
    },
    {
     "name": "stdout",
     "output_type": "stream",
     "text": [
      "peripheral_pulse\n"
     ]
    },
    {
     "data": {
      "text/html": [
       "<table>\n",
       "<thead>\n",
       "<tr><th>          </th><th style=\"text-align: right;\">  reduced</th><th style=\"text-align: right;\">  normal</th><th style=\"text-align: right;\">    absent</th><th style=\"text-align: right;\">  increased</th></tr>\n",
       "</thead>\n",
       "<tbody>\n",
       "<tr><td>Euthanized</td><td style=\"text-align: right;\"> 0.788845</td><td style=\"text-align: right;\">0.167331</td><td style=\"text-align: right;\">0.0438247 </td><td style=\"text-align: right;\"> 0         </td></tr>\n",
       "<tr><td>Died      </td><td style=\"text-align: right;\"> 0.765854</td><td style=\"text-align: right;\">0.22439 </td><td style=\"text-align: right;\">0.00731707</td><td style=\"text-align: right;\"> 0.00243902</td></tr>\n",
       "<tr><td>Lived     </td><td style=\"text-align: right;\"> 0.473868</td><td style=\"text-align: right;\">0.513937</td><td style=\"text-align: right;\">0.00696864</td><td style=\"text-align: right;\"> 0.00522648</td></tr>\n",
       "</tbody>\n",
       "</table>"
      ],
      "text/plain": [
       "<IPython.core.display.HTML object>"
      ]
     },
     "metadata": {},
     "output_type": "display_data"
    },
    {
     "name": "stdout",
     "output_type": "stream",
     "text": [
      "mucous_membrane\n"
     ]
    },
    {
     "data": {
      "text/html": [
       "<table>\n",
       "<thead>\n",
       "<tr><th>          </th><th style=\"text-align: right;\">  dark_cyanotic</th><th style=\"text-align: right;\">  pale_cyanotic</th><th style=\"text-align: right;\">  pale_pink</th><th style=\"text-align: right;\">  normal_pink</th><th style=\"text-align: right;\">  bright_pink</th><th style=\"text-align: right;\">  bright_red</th></tr>\n",
       "</thead>\n",
       "<tbody>\n",
       "<tr><td>Euthanized</td><td style=\"text-align: right;\">      0.119522 </td><td style=\"text-align: right;\">       0.314741</td><td style=\"text-align: right;\">   0.227092</td><td style=\"text-align: right;\">    0.139442 </td><td style=\"text-align: right;\">    0.0478088</td><td style=\"text-align: right;\">    0.151394</td></tr>\n",
       "<tr><td>Died      </td><td style=\"text-align: right;\">      0.14878  </td><td style=\"text-align: right;\">       0.258537</td><td style=\"text-align: right;\">   0.231707</td><td style=\"text-align: right;\">    0.0756098</td><td style=\"text-align: right;\">    0.0780488</td><td style=\"text-align: right;\">    0.207317</td></tr>\n",
       "<tr><td>Lived     </td><td style=\"text-align: right;\">      0.0522648</td><td style=\"text-align: right;\">       0.11324 </td><td style=\"text-align: right;\">   0.266551</td><td style=\"text-align: right;\">    0.337979 </td><td style=\"text-align: right;\">    0.0766551</td><td style=\"text-align: right;\">    0.15331 </td></tr>\n",
       "</tbody>\n",
       "</table>"
      ],
      "text/plain": [
       "<IPython.core.display.HTML object>"
      ]
     },
     "metadata": {},
     "output_type": "display_data"
    },
    {
     "name": "stdout",
     "output_type": "stream",
     "text": [
      "capillary_refill_time\n"
     ]
    },
    {
     "data": {
      "text/html": [
       "<table>\n",
       "<thead>\n",
       "<tr><th>          </th><th style=\"text-align: right;\">  more_3_sec</th><th style=\"text-align: right;\">  less_3_sec</th><th style=\"text-align: right;\">         3</th></tr>\n",
       "</thead>\n",
       "<tbody>\n",
       "<tr><td>Euthanized</td><td style=\"text-align: right;\">    0.418327</td><td style=\"text-align: right;\">    0.577689</td><td style=\"text-align: right;\">0.00398406</td></tr>\n",
       "<tr><td>Died      </td><td style=\"text-align: right;\">    0.463415</td><td style=\"text-align: right;\">    0.536585</td><td style=\"text-align: right;\">0         </td></tr>\n",
       "<tr><td>Lived     </td><td style=\"text-align: right;\">    0.170732</td><td style=\"text-align: right;\">    0.827526</td><td style=\"text-align: right;\">0.00174216</td></tr>\n",
       "</tbody>\n",
       "</table>"
      ],
      "text/plain": [
       "<IPython.core.display.HTML object>"
      ]
     },
     "metadata": {},
     "output_type": "display_data"
    },
    {
     "name": "stdout",
     "output_type": "stream",
     "text": [
      "pain\n"
     ]
    },
    {
     "data": {
      "text/html": [
       "<table>\n",
       "<thead>\n",
       "<tr><th>          </th><th style=\"text-align: right;\">  depressed</th><th style=\"text-align: right;\">  mild_pain</th><th style=\"text-align: right;\">  extreme_pain</th><th style=\"text-align: right;\">     alert</th><th style=\"text-align: right;\">  severe_pain</th><th style=\"text-align: right;\">    slight</th></tr>\n",
       "</thead>\n",
       "<tbody>\n",
       "<tr><td>Euthanized</td><td style=\"text-align: right;\">   0.505976</td><td style=\"text-align: right;\">   0.199203</td><td style=\"text-align: right;\">     0.0717131</td><td style=\"text-align: right;\">0.0119522 </td><td style=\"text-align: right;\">    0.207171 </td><td style=\"text-align: right;\">0.00398406</td></tr>\n",
       "<tr><td>Died      </td><td style=\"text-align: right;\">   0.439024</td><td style=\"text-align: right;\">   0.187805</td><td style=\"text-align: right;\">     0.197561 </td><td style=\"text-align: right;\">0.00243902</td><td style=\"text-align: right;\">    0.173171 </td><td style=\"text-align: right;\">0         </td></tr>\n",
       "<tr><td>Lived     </td><td style=\"text-align: right;\">   0.289199</td><td style=\"text-align: right;\">   0.489547</td><td style=\"text-align: right;\">     0.0365854</td><td style=\"text-align: right;\">0.144599  </td><td style=\"text-align: right;\">    0.0400697</td><td style=\"text-align: right;\">0         </td></tr>\n",
       "</tbody>\n",
       "</table>"
      ],
      "text/plain": [
       "<IPython.core.display.HTML object>"
      ]
     },
     "metadata": {},
     "output_type": "display_data"
    },
    {
     "name": "stdout",
     "output_type": "stream",
     "text": [
      "peristalsis\n"
     ]
    },
    {
     "data": {
      "text/html": [
       "<table>\n",
       "<thead>\n",
       "<tr><th>          </th><th style=\"text-align: right;\">  absent</th><th style=\"text-align: right;\">  hypomotile</th><th style=\"text-align: right;\">    normal</th><th style=\"text-align: right;\">  hypermotile</th><th style=\"text-align: right;\">  distend_small</th></tr>\n",
       "</thead>\n",
       "<tbody>\n",
       "<tr><td>Euthanized</td><td style=\"text-align: right;\">0.545817</td><td style=\"text-align: right;\">    0.38247 </td><td style=\"text-align: right;\">0.059761  </td><td style=\"text-align: right;\">   0.00796813</td><td style=\"text-align: right;\">     0.00398406</td></tr>\n",
       "<tr><td>Died      </td><td style=\"text-align: right;\">0.414634</td><td style=\"text-align: right;\">    0.560976</td><td style=\"text-align: right;\">0.00731707</td><td style=\"text-align: right;\">   0.0170732 </td><td style=\"text-align: right;\">     0         </td></tr>\n",
       "<tr><td>Lived     </td><td style=\"text-align: right;\">0.238676</td><td style=\"text-align: right;\">    0.623693</td><td style=\"text-align: right;\">0.0609756 </td><td style=\"text-align: right;\">   0.0766551 </td><td style=\"text-align: right;\">     0         </td></tr>\n",
       "</tbody>\n",
       "</table>"
      ],
      "text/plain": [
       "<IPython.core.display.HTML object>"
      ]
     },
     "metadata": {},
     "output_type": "display_data"
    },
    {
     "name": "stdout",
     "output_type": "stream",
     "text": [
      "abdominal_distention\n"
     ]
    },
    {
     "data": {
      "text/html": [
       "<table>\n",
       "<thead>\n",
       "<tr><th>          </th><th style=\"text-align: right;\">  slight</th><th style=\"text-align: right;\">  moderate</th><th style=\"text-align: right;\">    none</th><th style=\"text-align: right;\">  severe</th></tr>\n",
       "</thead>\n",
       "<tbody>\n",
       "<tr><td>Euthanized</td><td style=\"text-align: right;\">0.179283</td><td style=\"text-align: right;\">  0.525896</td><td style=\"text-align: right;\">0.119522</td><td style=\"text-align: right;\">0.175299</td></tr>\n",
       "<tr><td>Died      </td><td style=\"text-align: right;\">0.22439 </td><td style=\"text-align: right;\">  0.560976</td><td style=\"text-align: right;\">0.097561</td><td style=\"text-align: right;\">0.117073</td></tr>\n",
       "<tr><td>Lived     </td><td style=\"text-align: right;\">0.364111</td><td style=\"text-align: right;\">  0.355401</td><td style=\"text-align: right;\">0.247387</td><td style=\"text-align: right;\">0.033101</td></tr>\n",
       "</tbody>\n",
       "</table>"
      ],
      "text/plain": [
       "<IPython.core.display.HTML object>"
      ]
     },
     "metadata": {},
     "output_type": "display_data"
    },
    {
     "name": "stdout",
     "output_type": "stream",
     "text": [
      "nasogastric_tube\n"
     ]
    },
    {
     "data": {
      "text/html": [
       "<table>\n",
       "<thead>\n",
       "<tr><th>          </th><th style=\"text-align: right;\">  slight</th><th style=\"text-align: right;\">    none</th><th style=\"text-align: right;\">  significant</th></tr>\n",
       "</thead>\n",
       "<tbody>\n",
       "<tr><td>Euthanized</td><td style=\"text-align: right;\">0.561753</td><td style=\"text-align: right;\">0.290837</td><td style=\"text-align: right;\">    0.14741  </td></tr>\n",
       "<tr><td>Died      </td><td style=\"text-align: right;\">0.685366</td><td style=\"text-align: right;\">0.217073</td><td style=\"text-align: right;\">    0.097561 </td></tr>\n",
       "<tr><td>Lived     </td><td style=\"text-align: right;\">0.724739</td><td style=\"text-align: right;\">0.196864</td><td style=\"text-align: right;\">    0.0783972</td></tr>\n",
       "</tbody>\n",
       "</table>"
      ],
      "text/plain": [
       "<IPython.core.display.HTML object>"
      ]
     },
     "metadata": {},
     "output_type": "display_data"
    },
    {
     "name": "stdout",
     "output_type": "stream",
     "text": [
      "nasogastric_reflux\n"
     ]
    },
    {
     "data": {
      "text/html": [
       "<table>\n",
       "<thead>\n",
       "<tr><th>          </th><th style=\"text-align: right;\">  less_1_liter</th><th style=\"text-align: right;\">  more_1_liter</th><th style=\"text-align: right;\">    none</th><th style=\"text-align: right;\">    slight</th></tr>\n",
       "</thead>\n",
       "<tbody>\n",
       "<tr><td>Euthanized</td><td style=\"text-align: right;\">      0.163347</td><td style=\"text-align: right;\">      0.673307</td><td style=\"text-align: right;\">0.163347</td><td style=\"text-align: right;\">0         </td></tr>\n",
       "<tr><td>Died      </td><td style=\"text-align: right;\">      0.234146</td><td style=\"text-align: right;\">      0.470732</td><td style=\"text-align: right;\">0.295122</td><td style=\"text-align: right;\">0         </td></tr>\n",
       "<tr><td>Lived     </td><td style=\"text-align: right;\">      0.245645</td><td style=\"text-align: right;\">      0.458188</td><td style=\"text-align: right;\">0.294425</td><td style=\"text-align: right;\">0.00174216</td></tr>\n",
       "</tbody>\n",
       "</table>"
      ],
      "text/plain": [
       "<IPython.core.display.HTML object>"
      ]
     },
     "metadata": {},
     "output_type": "display_data"
    },
    {
     "name": "stdout",
     "output_type": "stream",
     "text": [
      "rectal_exam_feces\n"
     ]
    },
    {
     "data": {
      "text/html": [
       "<table>\n",
       "<thead>\n",
       "<tr><th>          </th><th style=\"text-align: right;\">  decreased</th><th style=\"text-align: right;\">  absent</th><th style=\"text-align: right;\">  normal</th><th style=\"text-align: right;\">  increased</th><th style=\"text-align: right;\">  serosanguious</th></tr>\n",
       "</thead>\n",
       "<tbody>\n",
       "<tr><td>Euthanized</td><td style=\"text-align: right;\">   0.14741 </td><td style=\"text-align: right;\">0.701195</td><td style=\"text-align: right;\">0.14741 </td><td style=\"text-align: right;\"> 0.00398406</td><td style=\"text-align: right;\">     0         </td></tr>\n",
       "<tr><td>Died      </td><td style=\"text-align: right;\">   0.197561</td><td style=\"text-align: right;\">0.619512</td><td style=\"text-align: right;\">0.136585</td><td style=\"text-align: right;\"> 0.0463415 </td><td style=\"text-align: right;\">     0         </td></tr>\n",
       "<tr><td>Lived     </td><td style=\"text-align: right;\">   0.263066</td><td style=\"text-align: right;\">0.440767</td><td style=\"text-align: right;\">0.243902</td><td style=\"text-align: right;\"> 0.0505226 </td><td style=\"text-align: right;\">     0.00174216</td></tr>\n",
       "</tbody>\n",
       "</table>"
      ],
      "text/plain": [
       "<IPython.core.display.HTML object>"
      ]
     },
     "metadata": {},
     "output_type": "display_data"
    },
    {
     "name": "stdout",
     "output_type": "stream",
     "text": [
      "abdomen\n"
     ]
    },
    {
     "data": {
      "text/html": [
       "<table>\n",
       "<thead>\n",
       "<tr><th>          </th><th style=\"text-align: right;\">  distend_small</th><th style=\"text-align: right;\">  distend_large</th><th style=\"text-align: right;\">   normal</th><th style=\"text-align: right;\">     firm</th><th style=\"text-align: right;\">     other</th></tr>\n",
       "</thead>\n",
       "<tbody>\n",
       "<tr><td>Euthanized</td><td style=\"text-align: right;\">       0.553785</td><td style=\"text-align: right;\">       0.370518</td><td style=\"text-align: right;\">0.0358566</td><td style=\"text-align: right;\">0.0318725</td><td style=\"text-align: right;\">0.00796813</td></tr>\n",
       "<tr><td>Died      </td><td style=\"text-align: right;\">       0.626829</td><td style=\"text-align: right;\">       0.302439</td><td style=\"text-align: right;\">0.0560976</td><td style=\"text-align: right;\">0.0097561</td><td style=\"text-align: right;\">0.00487805</td></tr>\n",
       "<tr><td>Lived     </td><td style=\"text-align: right;\">       0.520906</td><td style=\"text-align: right;\">       0.247387</td><td style=\"text-align: right;\">0.0766551</td><td style=\"text-align: right;\">0.10453  </td><td style=\"text-align: right;\">0.0505226 </td></tr>\n",
       "</tbody>\n",
       "</table>"
      ],
      "text/plain": [
       "<IPython.core.display.HTML object>"
      ]
     },
     "metadata": {},
     "output_type": "display_data"
    },
    {
     "name": "stdout",
     "output_type": "stream",
     "text": [
      "abdomo_appearance\n"
     ]
    },
    {
     "data": {
      "text/html": [
       "<table>\n",
       "<thead>\n",
       "<tr><th>          </th><th style=\"text-align: right;\">  serosanguious</th><th style=\"text-align: right;\">  cloudy</th><th style=\"text-align: right;\">   clear</th></tr>\n",
       "</thead>\n",
       "<tbody>\n",
       "<tr><td>Euthanized</td><td style=\"text-align: right;\">       0.609562</td><td style=\"text-align: right;\">0.282869</td><td style=\"text-align: right;\">0.10757 </td></tr>\n",
       "<tr><td>Died      </td><td style=\"text-align: right;\">       0.680488</td><td style=\"text-align: right;\">0.22439 </td><td style=\"text-align: right;\">0.095122</td></tr>\n",
       "<tr><td>Lived     </td><td style=\"text-align: right;\">       0.324042</td><td style=\"text-align: right;\">0.341463</td><td style=\"text-align: right;\">0.334495</td></tr>\n",
       "</tbody>\n",
       "</table>"
      ],
      "text/plain": [
       "<IPython.core.display.HTML object>"
      ]
     },
     "metadata": {},
     "output_type": "display_data"
    },
    {
     "name": "stdout",
     "output_type": "stream",
     "text": [
      "surgical_lesion\n"
     ]
    },
    {
     "data": {
      "text/html": [
       "<table>\n",
       "<thead>\n",
       "<tr><th>          </th><th style=\"text-align: right;\">     yes</th><th style=\"text-align: right;\">       no</th></tr>\n",
       "</thead>\n",
       "<tbody>\n",
       "<tr><td>Euthanized</td><td style=\"text-align: right;\">0.713147</td><td style=\"text-align: right;\">0.286853 </td></tr>\n",
       "<tr><td>Died      </td><td style=\"text-align: right;\">0.914634</td><td style=\"text-align: right;\">0.0853659</td></tr>\n",
       "<tr><td>Lived     </td><td style=\"text-align: right;\">0.65331 </td><td style=\"text-align: right;\">0.34669  </td></tr>\n",
       "</tbody>\n",
       "</table>"
      ],
      "text/plain": [
       "<IPython.core.display.HTML object>"
      ]
     },
     "metadata": {},
     "output_type": "display_data"
    },
    {
     "name": "stdout",
     "output_type": "stream",
     "text": [
      "lesion_1\n"
     ]
    },
    {
     "data": {
      "text/html": [
       "<table>\n",
       "<thead>\n",
       "<tr><th>          </th><th style=\"text-align: right;\">     2209</th><th style=\"text-align: right;\">    2208</th><th style=\"text-align: right;\">      5124</th><th style=\"text-align: right;\">        0</th><th style=\"text-align: right;\">     3111</th><th style=\"text-align: right;\">     2207</th><th style=\"text-align: right;\">      3209</th><th style=\"text-align: right;\">    3205</th><th style=\"text-align: right;\">      2124</th><th style=\"text-align: right;\">     2206</th><th style=\"text-align: right;\">    31110</th><th style=\"text-align: right;\">     2205</th><th style=\"text-align: right;\">     7111</th><th style=\"text-align: right;\">      3207</th><th style=\"text-align: right;\">      4206</th><th style=\"text-align: right;\">      2113</th><th style=\"text-align: right;\">      3113</th><th style=\"text-align: right;\">     2112</th><th style=\"text-align: right;\">     4205</th><th style=\"text-align: right;\">      8300</th><th style=\"text-align: right;\">      1400</th><th style=\"text-align: right;\">     5400</th><th style=\"text-align: right;\">      7209</th><th style=\"text-align: right;\">      3115</th><th style=\"text-align: right;\">     11124</th><th style=\"text-align: right;\">      4207</th><th style=\"text-align: right;\">     9400</th><th style=\"text-align: right;\">       300</th><th style=\"text-align: right;\">      2111</th><th style=\"text-align: right;\">      3300</th><th style=\"text-align: right;\">      3112</th><th style=\"text-align: right;\">       400</th><th style=\"text-align: right;\">      2300</th><th style=\"text-align: right;\">      2322</th><th style=\"text-align: right;\">      3133</th><th style=\"text-align: right;\">      4300</th><th style=\"text-align: right;\">      3025</th><th style=\"text-align: right;\">      8400</th><th style=\"text-align: right;\">      1111</th><th style=\"text-align: right;\">      5206</th><th style=\"text-align: right;\">     11300</th><th style=\"text-align: right;\">      4124</th><th style=\"text-align: right;\">     12208</th><th style=\"text-align: right;\">      6112</th><th style=\"text-align: right;\">      7400</th><th style=\"text-align: right;\">     5000</th><th style=\"text-align: right;\">      5205</th><th style=\"text-align: right;\">      2202</th><th style=\"text-align: right;\">      3124</th><th style=\"text-align: right;\">      5111</th><th style=\"text-align: right;\">      6209</th><th style=\"text-align: right;\">     11400</th><th style=\"text-align: right;\">      6111</th><th style=\"text-align: right;\">      2305</th><th style=\"text-align: right;\">     21110</th><th style=\"text-align: right;\">      1124</th><th style=\"text-align: right;\">     41110</th></tr>\n",
       "</thead>\n",
       "<tbody>\n",
       "<tr><td>Euthanized</td><td style=\"text-align: right;\">0.143426 </td><td style=\"text-align: right;\">0.131474</td><td style=\"text-align: right;\">0         </td><td style=\"text-align: right;\">0.0159363</td><td style=\"text-align: right;\">0.0557769</td><td style=\"text-align: right;\">0.0478088</td><td style=\"text-align: right;\">0.00796813</td><td style=\"text-align: right;\">0.179283</td><td style=\"text-align: right;\">0.00398406</td><td style=\"text-align: right;\">0.0119522</td><td style=\"text-align: right;\">0.0159363</td><td style=\"text-align: right;\">0.0956175</td><td style=\"text-align: right;\">0.0199203</td><td style=\"text-align: right;\">0         </td><td style=\"text-align: right;\">0.00398406</td><td style=\"text-align: right;\">0.0278884 </td><td style=\"text-align: right;\">0         </td><td style=\"text-align: right;\">0        </td><td style=\"text-align: right;\">0.0278884</td><td style=\"text-align: right;\">0.00398406</td><td style=\"text-align: right;\">0.103586  </td><td style=\"text-align: right;\">0.0119522</td><td style=\"text-align: right;\">0.00796813</td><td style=\"text-align: right;\">0         </td><td style=\"text-align: right;\">0         </td><td style=\"text-align: right;\">0         </td><td style=\"text-align: right;\">0        </td><td style=\"text-align: right;\">0         </td><td style=\"text-align: right;\">0         </td><td style=\"text-align: right;\">0         </td><td style=\"text-align: right;\">0         </td><td style=\"text-align: right;\">0         </td><td style=\"text-align: right;\">0.00796813</td><td style=\"text-align: right;\">0.0119522 </td><td style=\"text-align: right;\">0         </td><td style=\"text-align: right;\">0.00796813</td><td style=\"text-align: right;\">0         </td><td style=\"text-align: right;\">0         </td><td style=\"text-align: right;\">0         </td><td style=\"text-align: right;\">0.0119522 </td><td style=\"text-align: right;\">0         </td><td style=\"text-align: right;\">0         </td><td style=\"text-align: right;\">0         </td><td style=\"text-align: right;\">0         </td><td style=\"text-align: right;\">0.0239044 </td><td style=\"text-align: right;\">0        </td><td style=\"text-align: right;\">0.00398406</td><td style=\"text-align: right;\">0         </td><td style=\"text-align: right;\">0.00398406</td><td style=\"text-align: right;\">0         </td><td style=\"text-align: right;\">0.00398406</td><td style=\"text-align: right;\">0         </td><td style=\"text-align: right;\">0         </td><td style=\"text-align: right;\">0         </td><td style=\"text-align: right;\">0.00398406</td><td style=\"text-align: right;\">0         </td><td style=\"text-align: right;\">0.00398406</td></tr>\n",
       "<tr><td>Died      </td><td style=\"text-align: right;\">0.0707317</td><td style=\"text-align: right;\">0.139024</td><td style=\"text-align: right;\">0.00243902</td><td style=\"text-align: right;\">0.0097561</td><td style=\"text-align: right;\">0.0097561</td><td style=\"text-align: right;\">0.0170732</td><td style=\"text-align: right;\">0.0219512 </td><td style=\"text-align: right;\">0.112195</td><td style=\"text-align: right;\">0.0097561 </td><td style=\"text-align: right;\">0.0268293</td><td style=\"text-align: right;\">0.0170732</td><td style=\"text-align: right;\">0.121951 </td><td style=\"text-align: right;\">0.0439024</td><td style=\"text-align: right;\">0.0097561 </td><td style=\"text-align: right;\">0.00243902</td><td style=\"text-align: right;\">0.00487805</td><td style=\"text-align: right;\">0.00243902</td><td style=\"text-align: right;\">0.0463415</td><td style=\"text-align: right;\">0.0658537</td><td style=\"text-align: right;\">0         </td><td style=\"text-align: right;\">0.0536585 </td><td style=\"text-align: right;\">0.0585366</td><td style=\"text-align: right;\">0.0170732 </td><td style=\"text-align: right;\">0.00243902</td><td style=\"text-align: right;\">0         </td><td style=\"text-align: right;\">0.00243902</td><td style=\"text-align: right;\">0        </td><td style=\"text-align: right;\">0.00243902</td><td style=\"text-align: right;\">0.00243902</td><td style=\"text-align: right;\">0.00243902</td><td style=\"text-align: right;\">0         </td><td style=\"text-align: right;\">0.00731707</td><td style=\"text-align: right;\">0.0097561 </td><td style=\"text-align: right;\">0         </td><td style=\"text-align: right;\">0.00243902</td><td style=\"text-align: right;\">0.00731707</td><td style=\"text-align: right;\">0.0170732 </td><td style=\"text-align: right;\">0.00731707</td><td style=\"text-align: right;\">0         </td><td style=\"text-align: right;\">0.00487805</td><td style=\"text-align: right;\">0.00731707</td><td style=\"text-align: right;\">0.00243902</td><td style=\"text-align: right;\">0.0170732 </td><td style=\"text-align: right;\">0         </td><td style=\"text-align: right;\">0.0170732 </td><td style=\"text-align: right;\">0        </td><td style=\"text-align: right;\">0.00243902</td><td style=\"text-align: right;\">0.00243902</td><td style=\"text-align: right;\">0         </td><td style=\"text-align: right;\">0         </td><td style=\"text-align: right;\">0.00243902</td><td style=\"text-align: right;\">0.00487805</td><td style=\"text-align: right;\">0.00731707</td><td style=\"text-align: right;\">0.00243902</td><td style=\"text-align: right;\">0         </td><td style=\"text-align: right;\">0.00243902</td><td style=\"text-align: right;\">0         </td></tr>\n",
       "<tr><td>Lived     </td><td style=\"text-align: right;\">0.0644599</td><td style=\"text-align: right;\">0.108014</td><td style=\"text-align: right;\">0.00174216</td><td style=\"text-align: right;\">0.149826 </td><td style=\"text-align: right;\">0.127178 </td><td style=\"text-align: right;\">0.0121951</td><td style=\"text-align: right;\">0.00348432</td><td style=\"text-align: right;\">0.043554</td><td style=\"text-align: right;\">0.0818815 </td><td style=\"text-align: right;\">0.0365854</td><td style=\"text-align: right;\">0.0487805</td><td style=\"text-align: right;\">0.0522648</td><td style=\"text-align: right;\">0.0139373</td><td style=\"text-align: right;\">0.00348432</td><td style=\"text-align: right;\">0.00174216</td><td style=\"text-align: right;\">0.0365854 </td><td style=\"text-align: right;\">0.0087108 </td><td style=\"text-align: right;\">0.0365854</td><td style=\"text-align: right;\">0.0191638</td><td style=\"text-align: right;\">0.010453  </td><td style=\"text-align: right;\">0.00174216</td><td style=\"text-align: right;\">0.0139373</td><td style=\"text-align: right;\">0.00522648</td><td style=\"text-align: right;\">0.00522648</td><td style=\"text-align: right;\">0.00174216</td><td style=\"text-align: right;\">0         </td><td style=\"text-align: right;\">0.0087108</td><td style=\"text-align: right;\">0.00174216</td><td style=\"text-align: right;\">0.00348432</td><td style=\"text-align: right;\">0         </td><td style=\"text-align: right;\">0.00174216</td><td style=\"text-align: right;\">0.0209059 </td><td style=\"text-align: right;\">0.00348432</td><td style=\"text-align: right;\">0.00522648</td><td style=\"text-align: right;\">0.00522648</td><td style=\"text-align: right;\">0.00696864</td><td style=\"text-align: right;\">0.00348432</td><td style=\"text-align: right;\">0.00348432</td><td style=\"text-align: right;\">0.00348432</td><td style=\"text-align: right;\">0.00174216</td><td style=\"text-align: right;\">0.00174216</td><td style=\"text-align: right;\">0.00348432</td><td style=\"text-align: right;\">0.00174216</td><td style=\"text-align: right;\">0.00348432</td><td style=\"text-align: right;\">0.00174216</td><td style=\"text-align: right;\">0.0087108</td><td style=\"text-align: right;\">0.00348432</td><td style=\"text-align: right;\">0         </td><td style=\"text-align: right;\">0.00174216</td><td style=\"text-align: right;\">0.00696864</td><td style=\"text-align: right;\">0         </td><td style=\"text-align: right;\">0.00174216</td><td style=\"text-align: right;\">0.00174216</td><td style=\"text-align: right;\">0.00174216</td><td style=\"text-align: right;\">0         </td><td style=\"text-align: right;\">0.00348432</td><td style=\"text-align: right;\">0         </td></tr>\n",
       "</tbody>\n",
       "</table>"
      ],
      "text/plain": [
       "<IPython.core.display.HTML object>"
      ]
     },
     "metadata": {},
     "output_type": "display_data"
    }
   ],
   "source": [
    "# Create tables showing the fraction of each class per category\n",
    "for feature in categorical:\n",
    "    print(feature)\n",
    "    results = compare_categorical(df_train, feature, selection_dict)\n",
    "    display(HTML(tabulate.tabulate(results[0], tablefmt='html', headers=results[1])))"
   ]
  },
  {
   "cell_type": "markdown",
   "id": "2a727607",
   "metadata": {},
   "source": [
    "Although some of the categorical features look like they can be label encoded, some are more ambigous if they are ordinal or not, so I'll proceed with one-hot encoding all the categorical features except for outcome just to be on the safe side. Like with the mode, I'll fit the one-hot encoder on train only and just apply it to test."
   ]
  },
  {
   "cell_type": "code",
   "execution_count": 25,
   "id": "25e1dee6",
   "metadata": {},
   "outputs": [],
   "source": [
    "from sklearn.preprocessing import OneHotEncoder\n",
    "\n",
    "# Initialize the encoder\n",
    "one = OneHotEncoder(sparse_output=False, handle_unknown='ignore')\n",
    "\n",
    "# Fit the encoder and transform the data\n",
    "one.fit(df_train[categorical])\n",
    "encoded_train_arr = one.transform(df_train[categorical])\n",
    "encoded_test_arr = one.transform(df_test[categorical])\n",
    "\n",
    "# Convert encoded arrays back to DataFrames \n",
    "encoded_train = pd.DataFrame(encoded_train_arr, columns=one.get_feature_names_out(categorical), index=df_train.index)\n",
    "encoded_test = pd.DataFrame(encoded_test_arr, columns=one.get_feature_names_out(categorical), index=df_test.index)\n",
    "\n",
    "# Add hot encoded features back to the original sets and remove the original categorical features\n",
    "df_train_encoded = pd.concat([df_train.drop(columns=categorical), encoded_train], axis=1)\n",
    "df_test_encoded = pd.concat([df_test.drop(columns=categorical), encoded_test], axis=1)\n",
    "\n",
    "# Move outcome column to the end of training set\n",
    "outcome_col = df_train_encoded.pop('outcome')\n",
    "df_train_encoded['outcome'] = outcome_col"
   ]
  },
  {
   "cell_type": "code",
   "execution_count": 26,
   "id": "ba7d9eaf",
   "metadata": {},
   "outputs": [
    {
     "name": "stdout",
     "output_type": "stream",
     "text": [
      "<class 'pandas.core.frame.DataFrame'>\n",
      "RangeIndex: 824 entries, 0 to 823\n",
      "Columns: 122 entries, rectal_temp to lesion_1_9400\n",
      "dtypes: float64(122)\n",
      "memory usage: 785.5 KB\n",
      "None \n",
      "\n",
      "<class 'pandas.core.frame.DataFrame'>\n",
      "RangeIndex: 1235 entries, 0 to 1234\n",
      "Columns: 123 entries, rectal_temp to outcome\n",
      "dtypes: float64(122), object(1)\n",
      "memory usage: 1.2+ MB\n",
      "None\n"
     ]
    }
   ],
   "source": [
    "# Ensure all of test is now numerical and training is as well except for outcome\n",
    "print(df_test_encoded.info(), \"\\n\")\n",
    "print(df_train_encoded.info())"
   ]
  },
  {
   "cell_type": "markdown",
   "id": "52a73c58",
   "metadata": {},
   "source": [
    "Now we have our CSV files ready for model training and part of our submission file."
   ]
  },
  {
   "cell_type": "code",
   "execution_count": 27,
   "id": "0e08fd0c",
   "metadata": {},
   "outputs": [],
   "source": [
    "# Save the cleaned datasets and test_id column as csv files\n",
    "df_train_encoded.to_csv(\"df_train_clean.csv\", index=False)\n",
    "df_test_encoded.to_csv(\"df_test_clean.csv\", index=False)\n",
    "test_ids_df = pd.DataFrame({'id': test_ids})\n",
    "test_ids_df.to_csv('submission.csv', index=False)"
   ]
  },
  {
   "cell_type": "code",
   "execution_count": 28,
   "id": "5453822c",
   "metadata": {},
   "outputs": [
    {
     "data": {
      "text/html": [
       "<div>\n",
       "<style scoped>\n",
       "    .dataframe tbody tr th:only-of-type {\n",
       "        vertical-align: middle;\n",
       "    }\n",
       "\n",
       "    .dataframe tbody tr th {\n",
       "        vertical-align: top;\n",
       "    }\n",
       "\n",
       "    .dataframe thead th {\n",
       "        text-align: right;\n",
       "    }\n",
       "</style>\n",
       "<table border=\"1\" class=\"dataframe\">\n",
       "  <thead>\n",
       "    <tr style=\"text-align: right;\">\n",
       "      <th></th>\n",
       "      <th>rectal_temp</th>\n",
       "      <th>pulse</th>\n",
       "      <th>respiratory_rate</th>\n",
       "      <th>nasogastric_reflux_ph</th>\n",
       "      <th>packed_cell_volume</th>\n",
       "      <th>total_protein</th>\n",
       "      <th>abdomo_protein</th>\n",
       "      <th>surgery_no</th>\n",
       "      <th>surgery_yes</th>\n",
       "      <th>age_adult</th>\n",
       "      <th>...</th>\n",
       "      <th>lesion_1_6111</th>\n",
       "      <th>lesion_1_6112</th>\n",
       "      <th>lesion_1_6209</th>\n",
       "      <th>lesion_1_7111</th>\n",
       "      <th>lesion_1_7209</th>\n",
       "      <th>lesion_1_7400</th>\n",
       "      <th>lesion_1_8300</th>\n",
       "      <th>lesion_1_8400</th>\n",
       "      <th>lesion_1_9400</th>\n",
       "      <th>outcome</th>\n",
       "    </tr>\n",
       "  </thead>\n",
       "  <tbody>\n",
       "    <tr>\n",
       "      <th>0</th>\n",
       "      <td>38.1</td>\n",
       "      <td>132.0</td>\n",
       "      <td>24.0</td>\n",
       "      <td>6.5</td>\n",
       "      <td>57.0</td>\n",
       "      <td>8.5</td>\n",
       "      <td>3.4</td>\n",
       "      <td>0.0</td>\n",
       "      <td>1.0</td>\n",
       "      <td>1.0</td>\n",
       "      <td>...</td>\n",
       "      <td>0.0</td>\n",
       "      <td>0.0</td>\n",
       "      <td>0.0</td>\n",
       "      <td>0.0</td>\n",
       "      <td>0.0</td>\n",
       "      <td>0.0</td>\n",
       "      <td>0.0</td>\n",
       "      <td>0.0</td>\n",
       "      <td>0.0</td>\n",
       "      <td>died</td>\n",
       "    </tr>\n",
       "    <tr>\n",
       "      <th>1</th>\n",
       "      <td>37.5</td>\n",
       "      <td>88.0</td>\n",
       "      <td>12.0</td>\n",
       "      <td>2.0</td>\n",
       "      <td>33.0</td>\n",
       "      <td>64.0</td>\n",
       "      <td>2.0</td>\n",
       "      <td>0.0</td>\n",
       "      <td>1.0</td>\n",
       "      <td>1.0</td>\n",
       "      <td>...</td>\n",
       "      <td>0.0</td>\n",
       "      <td>0.0</td>\n",
       "      <td>0.0</td>\n",
       "      <td>0.0</td>\n",
       "      <td>0.0</td>\n",
       "      <td>0.0</td>\n",
       "      <td>0.0</td>\n",
       "      <td>0.0</td>\n",
       "      <td>0.0</td>\n",
       "      <td>euthanized</td>\n",
       "    </tr>\n",
       "    <tr>\n",
       "      <th>2</th>\n",
       "      <td>38.3</td>\n",
       "      <td>120.0</td>\n",
       "      <td>28.0</td>\n",
       "      <td>3.5</td>\n",
       "      <td>37.0</td>\n",
       "      <td>6.4</td>\n",
       "      <td>3.4</td>\n",
       "      <td>0.0</td>\n",
       "      <td>1.0</td>\n",
       "      <td>1.0</td>\n",
       "      <td>...</td>\n",
       "      <td>0.0</td>\n",
       "      <td>0.0</td>\n",
       "      <td>0.0</td>\n",
       "      <td>0.0</td>\n",
       "      <td>0.0</td>\n",
       "      <td>0.0</td>\n",
       "      <td>0.0</td>\n",
       "      <td>0.0</td>\n",
       "      <td>0.0</td>\n",
       "      <td>lived</td>\n",
       "    </tr>\n",
       "    <tr>\n",
       "      <th>3</th>\n",
       "      <td>37.1</td>\n",
       "      <td>72.0</td>\n",
       "      <td>30.0</td>\n",
       "      <td>2.0</td>\n",
       "      <td>53.0</td>\n",
       "      <td>7.0</td>\n",
       "      <td>3.9</td>\n",
       "      <td>0.0</td>\n",
       "      <td>1.0</td>\n",
       "      <td>1.0</td>\n",
       "      <td>...</td>\n",
       "      <td>0.0</td>\n",
       "      <td>0.0</td>\n",
       "      <td>0.0</td>\n",
       "      <td>0.0</td>\n",
       "      <td>0.0</td>\n",
       "      <td>0.0</td>\n",
       "      <td>0.0</td>\n",
       "      <td>0.0</td>\n",
       "      <td>0.0</td>\n",
       "      <td>lived</td>\n",
       "    </tr>\n",
       "    <tr>\n",
       "      <th>4</th>\n",
       "      <td>38.0</td>\n",
       "      <td>52.0</td>\n",
       "      <td>48.0</td>\n",
       "      <td>7.0</td>\n",
       "      <td>47.0</td>\n",
       "      <td>7.3</td>\n",
       "      <td>2.6</td>\n",
       "      <td>1.0</td>\n",
       "      <td>0.0</td>\n",
       "      <td>1.0</td>\n",
       "      <td>...</td>\n",
       "      <td>0.0</td>\n",
       "      <td>0.0</td>\n",
       "      <td>0.0</td>\n",
       "      <td>0.0</td>\n",
       "      <td>0.0</td>\n",
       "      <td>0.0</td>\n",
       "      <td>0.0</td>\n",
       "      <td>0.0</td>\n",
       "      <td>0.0</td>\n",
       "      <td>lived</td>\n",
       "    </tr>\n",
       "  </tbody>\n",
       "</table>\n",
       "<p>5 rows × 123 columns</p>\n",
       "</div>"
      ],
      "text/plain": [
       "   rectal_temp  pulse  respiratory_rate  nasogastric_reflux_ph  \\\n",
       "0         38.1  132.0              24.0                    6.5   \n",
       "1         37.5   88.0              12.0                    2.0   \n",
       "2         38.3  120.0              28.0                    3.5   \n",
       "3         37.1   72.0              30.0                    2.0   \n",
       "4         38.0   52.0              48.0                    7.0   \n",
       "\n",
       "   packed_cell_volume  total_protein  abdomo_protein  surgery_no  surgery_yes  \\\n",
       "0                57.0            8.5             3.4         0.0          1.0   \n",
       "1                33.0           64.0             2.0         0.0          1.0   \n",
       "2                37.0            6.4             3.4         0.0          1.0   \n",
       "3                53.0            7.0             3.9         0.0          1.0   \n",
       "4                47.0            7.3             2.6         1.0          0.0   \n",
       "\n",
       "   age_adult  ...  lesion_1_6111  lesion_1_6112  lesion_1_6209  lesion_1_7111  \\\n",
       "0        1.0  ...            0.0            0.0            0.0            0.0   \n",
       "1        1.0  ...            0.0            0.0            0.0            0.0   \n",
       "2        1.0  ...            0.0            0.0            0.0            0.0   \n",
       "3        1.0  ...            0.0            0.0            0.0            0.0   \n",
       "4        1.0  ...            0.0            0.0            0.0            0.0   \n",
       "\n",
       "   lesion_1_7209  lesion_1_7400  lesion_1_8300  lesion_1_8400  lesion_1_9400  \\\n",
       "0            0.0            0.0            0.0            0.0            0.0   \n",
       "1            0.0            0.0            0.0            0.0            0.0   \n",
       "2            0.0            0.0            0.0            0.0            0.0   \n",
       "3            0.0            0.0            0.0            0.0            0.0   \n",
       "4            0.0            0.0            0.0            0.0            0.0   \n",
       "\n",
       "      outcome  \n",
       "0        died  \n",
       "1  euthanized  \n",
       "2       lived  \n",
       "3       lived  \n",
       "4       lived  \n",
       "\n",
       "[5 rows x 123 columns]"
      ]
     },
     "execution_count": 28,
     "metadata": {},
     "output_type": "execute_result"
    }
   ],
   "source": [
    "df_train_encoded.head(5)"
   ]
  },
  {
   "cell_type": "code",
   "execution_count": 29,
   "id": "2381c1b0",
   "metadata": {},
   "outputs": [
    {
     "data": {
      "text/html": [
       "<div>\n",
       "<style scoped>\n",
       "    .dataframe tbody tr th:only-of-type {\n",
       "        vertical-align: middle;\n",
       "    }\n",
       "\n",
       "    .dataframe tbody tr th {\n",
       "        vertical-align: top;\n",
       "    }\n",
       "\n",
       "    .dataframe thead th {\n",
       "        text-align: right;\n",
       "    }\n",
       "</style>\n",
       "<table border=\"1\" class=\"dataframe\">\n",
       "  <thead>\n",
       "    <tr style=\"text-align: right;\">\n",
       "      <th></th>\n",
       "      <th>rectal_temp</th>\n",
       "      <th>pulse</th>\n",
       "      <th>respiratory_rate</th>\n",
       "      <th>nasogastric_reflux_ph</th>\n",
       "      <th>packed_cell_volume</th>\n",
       "      <th>total_protein</th>\n",
       "      <th>abdomo_protein</th>\n",
       "      <th>surgery_no</th>\n",
       "      <th>surgery_yes</th>\n",
       "      <th>age_adult</th>\n",
       "      <th>...</th>\n",
       "      <th>lesion_1_5400</th>\n",
       "      <th>lesion_1_6111</th>\n",
       "      <th>lesion_1_6112</th>\n",
       "      <th>lesion_1_6209</th>\n",
       "      <th>lesion_1_7111</th>\n",
       "      <th>lesion_1_7209</th>\n",
       "      <th>lesion_1_7400</th>\n",
       "      <th>lesion_1_8300</th>\n",
       "      <th>lesion_1_8400</th>\n",
       "      <th>lesion_1_9400</th>\n",
       "    </tr>\n",
       "  </thead>\n",
       "  <tbody>\n",
       "    <tr>\n",
       "      <th>0</th>\n",
       "      <td>38.6</td>\n",
       "      <td>40.0</td>\n",
       "      <td>20.0</td>\n",
       "      <td>7.0</td>\n",
       "      <td>42.0</td>\n",
       "      <td>7.5</td>\n",
       "      <td>2.3</td>\n",
       "      <td>1.0</td>\n",
       "      <td>0.0</td>\n",
       "      <td>1.0</td>\n",
       "      <td>...</td>\n",
       "      <td>0.0</td>\n",
       "      <td>0.0</td>\n",
       "      <td>0.0</td>\n",
       "      <td>0.0</td>\n",
       "      <td>0.0</td>\n",
       "      <td>0.0</td>\n",
       "      <td>0.0</td>\n",
       "      <td>0.0</td>\n",
       "      <td>0.0</td>\n",
       "      <td>0.0</td>\n",
       "    </tr>\n",
       "    <tr>\n",
       "      <th>1</th>\n",
       "      <td>38.2</td>\n",
       "      <td>112.0</td>\n",
       "      <td>48.0</td>\n",
       "      <td>3.5</td>\n",
       "      <td>44.0</td>\n",
       "      <td>6.0</td>\n",
       "      <td>2.6</td>\n",
       "      <td>0.0</td>\n",
       "      <td>1.0</td>\n",
       "      <td>1.0</td>\n",
       "      <td>...</td>\n",
       "      <td>0.0</td>\n",
       "      <td>0.0</td>\n",
       "      <td>0.0</td>\n",
       "      <td>0.0</td>\n",
       "      <td>0.0</td>\n",
       "      <td>0.0</td>\n",
       "      <td>0.0</td>\n",
       "      <td>0.0</td>\n",
       "      <td>0.0</td>\n",
       "      <td>0.0</td>\n",
       "    </tr>\n",
       "    <tr>\n",
       "      <th>2</th>\n",
       "      <td>37.7</td>\n",
       "      <td>66.0</td>\n",
       "      <td>12.0</td>\n",
       "      <td>3.0</td>\n",
       "      <td>31.5</td>\n",
       "      <td>6.0</td>\n",
       "      <td>1.6</td>\n",
       "      <td>0.0</td>\n",
       "      <td>1.0</td>\n",
       "      <td>1.0</td>\n",
       "      <td>...</td>\n",
       "      <td>0.0</td>\n",
       "      <td>0.0</td>\n",
       "      <td>0.0</td>\n",
       "      <td>0.0</td>\n",
       "      <td>0.0</td>\n",
       "      <td>0.0</td>\n",
       "      <td>0.0</td>\n",
       "      <td>0.0</td>\n",
       "      <td>0.0</td>\n",
       "      <td>0.0</td>\n",
       "    </tr>\n",
       "    <tr>\n",
       "      <th>3</th>\n",
       "      <td>37.1</td>\n",
       "      <td>88.0</td>\n",
       "      <td>20.0</td>\n",
       "      <td>2.0</td>\n",
       "      <td>75.0</td>\n",
       "      <td>81.0</td>\n",
       "      <td>1.0</td>\n",
       "      <td>1.0</td>\n",
       "      <td>0.0</td>\n",
       "      <td>1.0</td>\n",
       "      <td>...</td>\n",
       "      <td>0.0</td>\n",
       "      <td>0.0</td>\n",
       "      <td>0.0</td>\n",
       "      <td>0.0</td>\n",
       "      <td>0.0</td>\n",
       "      <td>0.0</td>\n",
       "      <td>0.0</td>\n",
       "      <td>0.0</td>\n",
       "      <td>0.0</td>\n",
       "      <td>0.0</td>\n",
       "    </tr>\n",
       "    <tr>\n",
       "      <th>4</th>\n",
       "      <td>38.3</td>\n",
       "      <td>50.0</td>\n",
       "      <td>12.0</td>\n",
       "      <td>3.0</td>\n",
       "      <td>37.0</td>\n",
       "      <td>6.8</td>\n",
       "      <td>2.6</td>\n",
       "      <td>0.0</td>\n",
       "      <td>1.0</td>\n",
       "      <td>1.0</td>\n",
       "      <td>...</td>\n",
       "      <td>0.0</td>\n",
       "      <td>0.0</td>\n",
       "      <td>0.0</td>\n",
       "      <td>0.0</td>\n",
       "      <td>0.0</td>\n",
       "      <td>0.0</td>\n",
       "      <td>0.0</td>\n",
       "      <td>0.0</td>\n",
       "      <td>0.0</td>\n",
       "      <td>0.0</td>\n",
       "    </tr>\n",
       "  </tbody>\n",
       "</table>\n",
       "<p>5 rows × 122 columns</p>\n",
       "</div>"
      ],
      "text/plain": [
       "   rectal_temp  pulse  respiratory_rate  nasogastric_reflux_ph  \\\n",
       "0         38.6   40.0              20.0                    7.0   \n",
       "1         38.2  112.0              48.0                    3.5   \n",
       "2         37.7   66.0              12.0                    3.0   \n",
       "3         37.1   88.0              20.0                    2.0   \n",
       "4         38.3   50.0              12.0                    3.0   \n",
       "\n",
       "   packed_cell_volume  total_protein  abdomo_protein  surgery_no  surgery_yes  \\\n",
       "0                42.0            7.5             2.3         1.0          0.0   \n",
       "1                44.0            6.0             2.6         0.0          1.0   \n",
       "2                31.5            6.0             1.6         0.0          1.0   \n",
       "3                75.0           81.0             1.0         1.0          0.0   \n",
       "4                37.0            6.8             2.6         0.0          1.0   \n",
       "\n",
       "   age_adult  ...  lesion_1_5400  lesion_1_6111  lesion_1_6112  lesion_1_6209  \\\n",
       "0        1.0  ...            0.0            0.0            0.0            0.0   \n",
       "1        1.0  ...            0.0            0.0            0.0            0.0   \n",
       "2        1.0  ...            0.0            0.0            0.0            0.0   \n",
       "3        1.0  ...            0.0            0.0            0.0            0.0   \n",
       "4        1.0  ...            0.0            0.0            0.0            0.0   \n",
       "\n",
       "   lesion_1_7111  lesion_1_7209  lesion_1_7400  lesion_1_8300  lesion_1_8400  \\\n",
       "0            0.0            0.0            0.0            0.0            0.0   \n",
       "1            0.0            0.0            0.0            0.0            0.0   \n",
       "2            0.0            0.0            0.0            0.0            0.0   \n",
       "3            0.0            0.0            0.0            0.0            0.0   \n",
       "4            0.0            0.0            0.0            0.0            0.0   \n",
       "\n",
       "   lesion_1_9400  \n",
       "0            0.0  \n",
       "1            0.0  \n",
       "2            0.0  \n",
       "3            0.0  \n",
       "4            0.0  \n",
       "\n",
       "[5 rows x 122 columns]"
      ]
     },
     "execution_count": 29,
     "metadata": {},
     "output_type": "execute_result"
    }
   ],
   "source": [
    "df_test_encoded.head(5)"
   ]
  },
  {
   "cell_type": "code",
   "execution_count": 30,
   "id": "8d4b8384",
   "metadata": {},
   "outputs": [
    {
     "data": {
      "text/html": [
       "<div>\n",
       "<style scoped>\n",
       "    .dataframe tbody tr th:only-of-type {\n",
       "        vertical-align: middle;\n",
       "    }\n",
       "\n",
       "    .dataframe tbody tr th {\n",
       "        vertical-align: top;\n",
       "    }\n",
       "\n",
       "    .dataframe thead th {\n",
       "        text-align: right;\n",
       "    }\n",
       "</style>\n",
       "<table border=\"1\" class=\"dataframe\">\n",
       "  <thead>\n",
       "    <tr style=\"text-align: right;\">\n",
       "      <th></th>\n",
       "      <th>id</th>\n",
       "    </tr>\n",
       "  </thead>\n",
       "  <tbody>\n",
       "    <tr>\n",
       "      <th>0</th>\n",
       "      <td>1235</td>\n",
       "    </tr>\n",
       "    <tr>\n",
       "      <th>1</th>\n",
       "      <td>1236</td>\n",
       "    </tr>\n",
       "    <tr>\n",
       "      <th>2</th>\n",
       "      <td>1237</td>\n",
       "    </tr>\n",
       "    <tr>\n",
       "      <th>3</th>\n",
       "      <td>1238</td>\n",
       "    </tr>\n",
       "    <tr>\n",
       "      <th>4</th>\n",
       "      <td>1239</td>\n",
       "    </tr>\n",
       "  </tbody>\n",
       "</table>\n",
       "</div>"
      ],
      "text/plain": [
       "     id\n",
       "0  1235\n",
       "1  1236\n",
       "2  1237\n",
       "3  1238\n",
       "4  1239"
      ]
     },
     "execution_count": 30,
     "metadata": {},
     "output_type": "execute_result"
    }
   ],
   "source": [
    "test_ids_df.head(5)"
   ]
  }
 ],
 "metadata": {
  "kernelspec": {
   "display_name": "Python 3 (ipykernel)",
   "language": "python",
   "name": "python3"
  },
  "language_info": {
   "codemirror_mode": {
    "name": "ipython",
    "version": 3
   },
   "file_extension": ".py",
   "mimetype": "text/x-python",
   "name": "python",
   "nbconvert_exporter": "python",
   "pygments_lexer": "ipython3",
   "version": "3.12.3"
  }
 },
 "nbformat": 4,
 "nbformat_minor": 5
}
